{
 "cells": [
  {
   "cell_type": "markdown",
   "metadata": {},
   "source": [
    "## First pass attempt to run Mountainsort using spikeinterfaces\n",
    "The data used for this purpose is on continuously sampled wideband data collected by Jimmie Gmaz. [(Source)](http://datasets.datalad.org/?dir=/labs/mvdm/BiconditionalOdor)"
   ]
  },
  {
   "cell_type": "code",
   "execution_count": 1,
   "metadata": {},
   "outputs": [
    {
     "name": "stderr",
     "output_type": "stream",
     "text": [
      "08:52:28 [I] klustakwik KlustaKwik2 version 0.2.6\n"
     ]
    }
   ],
   "source": [
    "# Recommended import aliases: https://spikeinterface.readthedocs.io/en/latest/getting_started/plot_getting_started.html\n",
    "import spikeinterface.extractors as se\n",
    "import spikeinterface.toolkit as st\n",
    "import spikeinterface.sorters as ss\n",
    "import spikeinterface.comparison as sc\n",
    "import spikeinterface.widgets as sw\n",
    "# Additional imports\n",
    "import os.path as op\n",
    "import neo  # neo for some direct reading to check on # of segments etc\n",
    "import numpy as np\n",
    "import matplotlib.pyplot as plt\n",
    "import os"
   ]
  },
  {
   "cell_type": "code",
   "execution_count": 2,
   "metadata": {},
   "outputs": [
    {
     "name": "stdout",
     "output_type": "stream",
     "text": [
      "NeuralynxIO: data/BiconditionalOdor/M040-2020-04-29-CDOD12\n",
      "nb_block: 1\n",
      "nb_segment:  [5]\n",
      "signal_channels: [CSC10, CSC11, CSC12, CSC13 ... CSC30 CSC31 CSC32 CSC9]\n",
      "unit_channels: [chTT3#13#0, chTT3#14#0, chTT3#8#0, chTT3#24#0 ... chTT8#3#0 chTT8#4#0 chTT8#19#0 chTT8#20#0]\n",
      "event_channels: [Events event_id=11 ttl=0, Events event_id=11 ttl=1, Events event_id=11 ttl=2, Events event_id=11 ttl=4 ... Events event_id=11 ttl=48 Events event_id=11 ttl=64 Events event_id=11 ttl=96 Events event_id=19 ttl=0]\n",
      "\n"
     ]
    }
   ],
   "source": [
    "# sample_file can be any file in the directory which has ALL the ncs files.\n",
    "sample_file = 'data/BiconditionalOdor/M040-2020-04-29-CDOD12/CSC14.ncs'\n",
    "dname = (op.dirname(sample_file))\n",
    "# print(dname)\n",
    "# Throws an error if the the ncs files don't have the same length\n",
    "# On omitting the file with a different length, this works (data/BiconditionalOdor/M040-2020-04-28-CDOD11/CSC26.ncs for instance)\n",
    "reader = neo.NeuralynxIO(dirname=dname)\n",
    "print(reader)"
   ]
  },
  {
   "cell_type": "markdown",
   "metadata": {},
   "source": [
    "**NOTE:** The following section with the Python gymnastics (or hacks) can be entirely skipped if a probe geometry file is present in the directory, along with all the channel mappings"
   ]
  },
  {
   "cell_type": "code",
   "execution_count": 3,
   "metadata": {},
   "outputs": [
    {
     "name": "stdout",
     "output_type": "stream",
     "text": [
      "OrderedDict([(('TT3', 13), 'data/BiconditionalOdor/M040-2020-04-29-CDOD12/M040-2020-04-29-TT3.ntt'), (('TT3', 14), 'data/BiconditionalOdor/M040-2020-04-29-CDOD12/M040-2020-04-29-TT3.ntt'), (('TT3', 8), 'data/BiconditionalOdor/M040-2020-04-29-CDOD12/M040-2020-04-29-TT3.ntt'), (('TT3', 24), 'data/BiconditionalOdor/M040-2020-04-29-CDOD12/M040-2020-04-29-TT3.ntt'), (('TT4', 31), 'data/BiconditionalOdor/M040-2020-04-29-CDOD12/M040-2020-04-29-TT4.ntt'), (('TT4', 15), 'data/BiconditionalOdor/M040-2020-04-29-CDOD12/M040-2020-04-29-TT4.ntt'), (('TT4', 9), 'data/BiconditionalOdor/M040-2020-04-29-CDOD12/M040-2020-04-29-TT4.ntt'), (('TT4', 25), 'data/BiconditionalOdor/M040-2020-04-29-CDOD12/M040-2020-04-29-TT4.ntt'), (('TT5', 23), 'data/BiconditionalOdor/M040-2020-04-29-CDOD12/M040-2020-04-29-TT5.ntt'), (('TT5', 7), 'data/BiconditionalOdor/M040-2020-04-29-CDOD12/M040-2020-04-29-TT5.ntt'), (('TT5', 1), 'data/BiconditionalOdor/M040-2020-04-29-CDOD12/M040-2020-04-29-TT5.ntt'), (('TT5', 2), 'data/BiconditionalOdor/M040-2020-04-29-CDOD12/M040-2020-04-29-TT5.ntt'), (('TT6', 22), 'data/BiconditionalOdor/M040-2020-04-29-CDOD12/M040-2020-04-29-TT6.ntt'), (('TT6', 6), 'data/BiconditionalOdor/M040-2020-04-29-CDOD12/M040-2020-04-29-TT6.ntt'), (('TT6', 0), 'data/BiconditionalOdor/M040-2020-04-29-CDOD12/M040-2020-04-29-TT6.ntt'), (('TT6', 16), 'data/BiconditionalOdor/M040-2020-04-29-CDOD12/M040-2020-04-29-TT6.ntt'), (('TT7', 17), 'data/BiconditionalOdor/M040-2020-04-29-CDOD12/M040-2020-04-29-TT7.ntt'), (('TT7', 18), 'data/BiconditionalOdor/M040-2020-04-29-CDOD12/M040-2020-04-29-TT7.ntt'), (('TT7', 5), 'data/BiconditionalOdor/M040-2020-04-29-CDOD12/M040-2020-04-29-TT7.ntt'), (('TT7', 21), 'data/BiconditionalOdor/M040-2020-04-29-CDOD12/M040-2020-04-29-TT7.ntt'), (('TT8', 3), 'data/BiconditionalOdor/M040-2020-04-29-CDOD12/M040-2020-04-29-TT8.ntt'), (('TT8', 4), 'data/BiconditionalOdor/M040-2020-04-29-CDOD12/M040-2020-04-29-TT8.ntt'), (('TT8', 19), 'data/BiconditionalOdor/M040-2020-04-29-CDOD12/M040-2020-04-29-TT8.ntt'), (('TT8', 20), 'data/BiconditionalOdor/M040-2020-04-29-CDOD12/M040-2020-04-29-TT8.ntt')]) \n",
      "\n",
      "OrderedDict([(('CSC10', 31), 'data/BiconditionalOdor/M040-2020-04-29-CDOD12/CSC10.ncs'), (('CSC11', 14), 'data/BiconditionalOdor/M040-2020-04-29-CDOD12/CSC11.ncs'), (('CSC12', 15), 'data/BiconditionalOdor/M040-2020-04-29-CDOD12/CSC12.ncs'), (('CSC13', 9), 'data/BiconditionalOdor/M040-2020-04-29-CDOD12/CSC13.ncs'), (('CSC14', 8), 'data/BiconditionalOdor/M040-2020-04-29-CDOD12/CSC14.ncs'), (('CSC15', 25), 'data/BiconditionalOdor/M040-2020-04-29-CDOD12/CSC15.ncs'), (('CSC16', 24), 'data/BiconditionalOdor/M040-2020-04-29-CDOD12/CSC16.ncs'), (('CSC17', 23), 'data/BiconditionalOdor/M040-2020-04-29-CDOD12/CSC17.ncs'), (('CSC18', 22), 'data/BiconditionalOdor/M040-2020-04-29-CDOD12/CSC18.ncs'), (('CSC19', 7), 'data/BiconditionalOdor/M040-2020-04-29-CDOD12/CSC19.ncs'), (('CSC20', 6), 'data/BiconditionalOdor/M040-2020-04-29-CDOD12/CSC20.ncs'), (('CSC21', 0), 'data/BiconditionalOdor/M040-2020-04-29-CDOD12/CSC21.ncs'), (('CSC22', 1), 'data/BiconditionalOdor/M040-2020-04-29-CDOD12/CSC22.ncs'), (('CSC23', 16), 'data/BiconditionalOdor/M040-2020-04-29-CDOD12/CSC23.ncs'), (('CSC24', 2), 'data/BiconditionalOdor/M040-2020-04-29-CDOD12/CSC24.ncs'), (('CSC25', 17), 'data/BiconditionalOdor/M040-2020-04-29-CDOD12/CSC25.ncs'), (('CSC26', 3), 'data/BiconditionalOdor/M040-2020-04-29-CDOD12/CSC26.ncs'), (('CSC27', 18), 'data/BiconditionalOdor/M040-2020-04-29-CDOD12/CSC27.ncs'), (('CSC28', 4), 'data/BiconditionalOdor/M040-2020-04-29-CDOD12/CSC28.ncs'), (('CSC29', 19), 'data/BiconditionalOdor/M040-2020-04-29-CDOD12/CSC29.ncs'), (('CSC30', 5), 'data/BiconditionalOdor/M040-2020-04-29-CDOD12/CSC30.ncs'), (('CSC31', 20), 'data/BiconditionalOdor/M040-2020-04-29-CDOD12/CSC31.ncs'), (('CSC32', 21), 'data/BiconditionalOdor/M040-2020-04-29-CDOD12/CSC32.ncs'), (('CSC9', 13), 'data/BiconditionalOdor/M040-2020-04-29-CDOD12/CSC9.ncs')]) \n",
      "\n"
     ]
    }
   ],
   "source": [
    "# These are ordered dictionary from which we can extract the CSC/TT to AD channels mapping\n",
    "# Ideally these should be present in the promoted dataset or should be more cleanly extracted \n",
    "print(reader.nse_ntt_filenames,\"\\n\")\n",
    "print(reader.ncs_filenames,\"\\n\")"
   ]
  },
  {
   "cell_type": "code",
   "execution_count": 4,
   "metadata": {},
   "outputs": [],
   "source": [
    "# Creating an AD channel to CSC file mapping\n",
    "ntt_channel_id_name = {}\n",
    "for key,value in reader.nse_ntt_filenames:\n",
    "    ntt_channel_id_name[value] = key\n",
    "# print(ntt_channel_id_name)"
   ]
  },
  {
   "cell_type": "code",
   "execution_count": 5,
   "metadata": {},
   "outputs": [],
   "source": [
    "# Creating AD channel to TT and TT to AD channel mapping\n",
    "ncs_channel_name_id = {}\n",
    "ncs_channel_id_name = {}\n",
    "for key,value in reader.ncs_filenames:\n",
    "    ncs_channel_name_id[key] = value\n",
    "    ncs_channel_id_name[value] = key\n",
    "# print(ncs_channel_name_id)\n",
    "# print(ncs_channel_id_name)"
   ]
  },
  {
   "cell_type": "code",
   "execution_count": 6,
   "metadata": {},
   "outputs": [],
   "source": [
    "# Creating TT to CSC mapping, to be used for creating 'channel groups' later\n",
    "ntt_ncs_map = {}\n",
    "for key in ntt_channel_id_name.keys():\n",
    "    if ntt_channel_id_name[key] in ntt_ncs_map:\n",
    "        ntt_ncs_map[ntt_channel_id_name[key]].append(ncs_channel_id_name[key])\n",
    "    else:\n",
    "        ntt_ncs_map[ntt_channel_id_name[key]] = []\n",
    "        ntt_ncs_map[ntt_channel_id_name[key]].append(ncs_channel_id_name[key])\n",
    "# print (ntt_ncs_map)"
   ]
  },
  {
   "cell_type": "code",
   "execution_count": 7,
   "metadata": {},
   "outputs": [],
   "source": [
    "recordingList = [se.NeuralynxRecordingExtractor(dirname=op.dirname(sample_file), seg_index=i) for i in range(reader.segment_count(0))]\n",
    "\n",
    "# This concatenates mutiple segments together\n",
    "recordingFull = se.MultiRecordingTimeExtractor(recordingList)"
   ]
  },
  {
   "cell_type": "markdown",
   "metadata": {},
   "source": [
    "<table><tr>\n",
    "<td> <img src=\"ks2_test/A4x2-tet-CM42-channelMap.png\" alt=\"Drawing\"/> </td>\n",
    "<td> <img src=\"ks2_test/A4x2-tet-CM42-probeGeometry.png\" alt=\"Drawing\"/> </td>\n",
    "</tr></table>"
   ]
  },
  {
   "cell_type": "markdown",
   "metadata": {},
   "source": [
    "## Location generation Code\n",
    "Based on the images above, I generate positions for the various channels"
   ]
  },
  {
   "cell_type": "code",
   "execution_count": 8,
   "metadata": {},
   "outputs": [],
   "source": [
    "# The keys refer to the contact ids as referred in the above images\n",
    "# The CSC names were based on these contact names, so that reduces the need to define yet another mapping.\n",
    "location_keys_1 = [6,1,8,3];\n",
    "location_keys_2 = [5,2,7,4];\n",
    "seed1 = np.array([0, 0])\n",
    "seed2 = np.array([0,150])\n",
    "x_offset = np.array([200,0])\n",
    "location_values_1 = [seed1, seed1+([-25/np.sqrt(2),25/np.sqrt(2)]), seed1+np.array([25/np.sqrt(2),25/np.sqrt(2)]), seed1+np.array([0,50/np.sqrt(2)])]\n",
    "location_values_2 = [seed2, seed2+([-25/np.sqrt(2),25/np.sqrt(2)]), seed2+np.array([25/np.sqrt(2),25/np.sqrt(2)]), seed2+np.array([0,50/np.sqrt(2)])]\n",
    "for i in range(3):\n",
    "    location_keys_1.extend([location_keys_1[j]+8*(i+1) for j in range(4)])\n",
    "    location_values_1.extend(location_values_1[j]+x_offset*(i+1) for j in range(4))\n",
    "    location_keys_2.extend([location_keys_2[j]+8*(i+1) for j in range(4)])\n",
    "    location_values_2.extend(location_values_2[j]+x_offset*(i+1) for j in range(4))\n",
    "# print (location_keys_1)\n",
    "# print (location_keys_2)\n",
    "location_name_keys = location_keys_1 + location_keys_2\n",
    "location_name_keys = ['CSC'+str(x) for x in location_name_keys]\n",
    "location_values = location_values_1 + location_values_2\n",
    "# print(location_name_keys, location_values)\n",
    "location_dict = {}\n",
    "for i in range(len(location_name_keys)):\n",
    "    location_dict[location_name_keys[i]] = location_values[i]\n",
    "# print(location_dict)"
   ]
  },
  {
   "cell_type": "code",
   "execution_count": 9,
   "metadata": {},
   "outputs": [
    {
     "data": {
      "image/png": "[encoded data removed]",
      "text/plain": [
       "<Figure size 432x288 with 1 Axes>"
      ]
     },
     "metadata": {
      "needs_background": "light"
     },
     "output_type": "display_data"
    }
   ],
   "source": [
    "# Sanity check to see that the relative locations of the various channels match that of the images above\n",
    "xcoords = [pos[0] for pos in location_values]\n",
    "ycoords = [pos[1] for pos in location_values]\n",
    "fig,ax = plt.subplots()\n",
    "ax.axis('off')\n",
    "for i in range(len(xcoords)):\n",
    "    plt.text(xcoords[i]/200,ycoords[i]/200,location_name_keys[i])\n"
   ]
  },
  {
   "cell_type": "code",
   "execution_count": 10,
   "metadata": {},
   "outputs": [],
   "source": [
    "# These channel ids reflect the AD-channels (I don't know if this is specific to Neuralynx Extractor or not, \n",
    "# but I guess not because I extracted the mapping before even calling the Neuralynx extractor). Therefore we use the\n",
    "# mappings obtained earlier to assign locations and groups correctly\n",
    "channel_ids = recordingFull.get_channel_ids()\n",
    "\n",
    "# Set channel groups based on the CSC-TT mapping, could be changed to CSC-shank or whatever else is suitable later\n",
    "group_ids = [int(ntt_channel_id_name[channel_ids[i]][2:]) for i in range(len(channel_ids))]\n",
    "# print(group_ids)\n",
    "recordingFull.set_channel_groups(group_ids)\n",
    "# Set channel locations from the ones generated above\n",
    "channel_locs = np.array([location_dict[ncs_channel_id_name[channel_ids[i]]] for i in range(len(channel_ids))])\n",
    "# print (channel_locs)\n",
    "recordingFull.set_channel_locations(channel_locs)"
   ]
  },
  {
   "cell_type": "code",
   "execution_count": 11,
   "metadata": {},
   "outputs": [
    {
     "data": {
      "image/png": "[encoded data removed]",
      "text/plain": [
       "<Figure size 432x288 with 1 Axes>"
      ]
     },
     "metadata": {
      "needs_background": "light"
     },
     "output_type": "display_data"
    }
   ],
   "source": [
    "# Sanity check to see if the correct locations have been assigned\n",
    "# In this case the first shank TT1 and TT2 were not used for the recording, so the assignment looks fine\n",
    "xcoords = [pos[0] for pos in channel_locs]\n",
    "ycoords = [pos[1] for pos in channel_locs]\n",
    "fig,ax = plt.subplots()\n",
    "ax.axis('off')\n",
    "for i in range(len(xcoords)):\n",
    "    plt.text(xcoords[i]/200,ycoords[i]/200,ncs_channel_id_name[channel_ids[i]])"
   ]
  },
  {
   "cell_type": "code",
   "execution_count": 12,
   "metadata": {},
   "outputs": [
    {
     "name": "stdout",
     "output_type": "stream",
     "text": [
      "['hdsort', 'herdingspikes', 'ironclust', 'kilosort', 'kilosort2', 'klusta', 'mountainsort4', 'spykingcircus', 'tridesclous', 'waveclus']\n"
     ]
    }
   ],
   "source": [
    "# This should contain mountainsort\n",
    "print (ss.available_sorters())"
   ]
  },
  {
   "cell_type": "code",
   "execution_count": 13,
   "metadata": {},
   "outputs": [
    {
     "data": {
      "text/plain": [
       "{'detect_sign': -1,\n",
       " 'adjacency_radius': -1,\n",
       " 'freq_min': 300,\n",
       " 'freq_max': 6000,\n",
       " 'filter': True,\n",
       " 'whiten': True,\n",
       " 'curation': False,\n",
       " 'num_workers': None,\n",
       " 'clip_size': 50,\n",
       " 'detect_threshold': 3,\n",
       " 'detect_interval': 10,\n",
       " 'noise_overlap_threshold': 0.15}"
      ]
     },
     "execution_count": 13,
     "metadata": {},
     "output_type": "execute_result"
    }
   ],
   "source": [
    "# These params should be changed and passed on kwargs if needed\n",
    "ms4_params = ss.Mountainsort4Sorter.default_params()\n",
    "ms4_params"
   ]
  },
  {
   "cell_type": "code",
   "execution_count": 14,
   "metadata": {},
   "outputs": [],
   "source": [
    "ms4_params['freq_min'] = None\n",
    "ms4_params['freq_max'] = None"
   ]
  },
  {
   "cell_type": "code",
   "execution_count": 15,
   "metadata": {},
   "outputs": [
    {
     "data": {
      "text/plain": [
       "'\\nTo use Mountainsort4 run:\\n\\n       >>> pip install ml_ms4alg\\n\\n    More information on mountainsort at:\\n      * https://github.com/flatironinstitute/mountainsort\\n    '"
      ]
     },
     "execution_count": 15,
     "metadata": {},
     "output_type": "execute_result"
    }
   ],
   "source": [
    "ss.Mountainsort4Sorter.installation_mesg"
   ]
  },
  {
   "cell_type": "code",
   "execution_count": 16,
   "metadata": {},
   "outputs": [
    {
     "data": {
      "text/plain": [
       "True"
      ]
     },
     "execution_count": 16,
     "metadata": {},
     "output_type": "execute_result"
    }
   ],
   "source": [
    "# Mountainsort won't run if this is False\n",
    "ss.Mountainsort4Sorter.installed"
   ]
  },
  {
   "cell_type": "code",
   "execution_count": 17,
   "metadata": {},
   "outputs": [
    {
     "name": "stdout",
     "output_type": "stream",
     "text": [
      "WARNING! The recording contains several group. In order to spike sort by 'group' use grouping_property='group' as argument.\n",
      "Skipping field: only int or float can be serialized\n",
      "Skipping field: only int or float can be serialized\n",
      "Using 4 workers.\n",
      "Using tmpdir: /tmp/tmp4plt8n_8\n",
      "Num. workers = 4\n",
      "Preparing /tmp/tmp4plt8n_8/timeseries.hdf5...\n",
      "'end_frame' set to 184450560\n",
      "Preparing neighborhood sorters (M=24, N=184450560)...\n",
      "Neighboorhood of channel 0 has 24 channels.\n",
      "Neighboorhood of channel 2 has 24 channels.\n",
      "Neighboorhood of channel 4 has 24 channels.\n",
      "Neighboorhood of channel 6 has 24 channels.\n",
      "Detecting events on channel 1 (phase1)...\n",
      "Detecting events on channel 5 (phase1)...\n",
      "Detecting events on channel 3 (phase1)...\n",
      "Detecting events on channel 7 (phase1)...\n",
      "Elapsed time for detect on neighborhood: 0:02:04.492247\n",
      "Elapsed time for detect on neighborhood: 0:02:04.494329\n",
      "Elapsed time for detect on neighborhood: 0:02:04.493255\n",
      "Elapsed time for detect on neighborhood: 0:02:04.491523\n",
      "Num events detected on channel 3 (phase1): 35812\n",
      "Num events detected on channel 7 (phase1): 72776\n",
      "Num events detected on channel 5 (phase1): 46740\n",
      "Num events detected on channel 1 (phase1): 15563\n",
      "Computing PCA features for channel 7 (phase1)...\n",
      "Computing PCA features for channel 3 (phase1)...\n",
      "Computing PCA features for channel 5 (phase1)...\n",
      "Computing PCA features for channel 1 (phase1)...\n",
      "Clustering for channel 1 (phase1)...\n",
      "Found 38 clusters for channel 1 (phase1)...\n",
      "Computing templates for channel 1 (phase1)...\n",
      "Clustering for channel 5 (phase1)...\n",
      "Clustering for channel 3 (phase1)...\n",
      "Clustering for channel 7 (phase1)...\n",
      "Found 12 clusters for channel 3 (phase1)...\n",
      "Computing templates for channel 3 (phase1)...\n",
      "Found 34 clusters for channel 5 (phase1)...\n",
      "Computing templates for channel 5 (phase1)...\n",
      "Found 14 clusters for channel 7 (phase1)...\n",
      "Computing templates for channel 7 (phase1)...\n",
      "Re-assigning events for channel 1 (phase1)...\n",
      "Re-assigning 487 events from 1 to 14 with dt=-7 (k=4)\n",
      "Re-assigning 7 events from 1 to 11 with dt=23 (k=5)\n",
      "Re-assigning 17 events from 1 to 14 with dt=1 (k=6)\n",
      "Re-assigning 1 events from 1 to 14 with dt=22 (k=15)\n",
      "Re-assigning 17 events from 1 to 14 with dt=-19 (k=18)\n",
      "Neighboorhood of channel 1 has 24 channels.\n",
      "Detecting events on channel 2 (phase1)...\n",
      "Re-assigning events for channel 7 (phase1)...\n",
      "Re-assigning events for channel 3 (phase1)...\n",
      "Re-assigning events for channel 5 (phase1)...\n",
      "Re-assigning 15 events from 5 to 21 with dt=0 (k=4)\n",
      "Re-assigning 432 events from 7 to 1 with dt=3 (k=4)\n",
      "Re-assigning 38 events from 5 to 21 with dt=0 (k=5)\n",
      "Re-assigning 1 events from 7 to 14 with dt=22 (k=6)\n",
      "Re-assigning 22 events from 5 to 21 with dt=0 (k=6)\n",
      "Re-assigning 40 events from 5 to 21 with dt=0 (k=15)\n",
      "Re-assigning 1 events from 5 to 11 with dt=-8 (k=16)\n",
      "Neighboorhood of channel 3 has 24 channels.\n",
      "Neighboorhood of channel 5 has 24 channels.\n",
      "Detecting events on channel 6 (phase1)...\n",
      "Detecting events on channel 4 (phase1)...\n",
      "Neighboorhood of channel 7 has 24 channels.\n",
      "Detecting events on channel 8 (phase1)...\n",
      "Elapsed time for detect on neighborhood: 0:02:14.461170\n",
      "Num events detected on channel 2 (phase1): 19185\n",
      "Computing PCA features for channel 2 (phase1)...\n",
      "Elapsed time for detect on neighborhood: 0:02:16.405975\n",
      "Elapsed time for detect on neighborhood: 0:02:16.405628\n",
      "Elapsed time for detect on neighborhood: 0:02:16.399875\n",
      "Num events detected on channel 4 (phase1): 37325\n",
      "Num events detected on channel 6 (phase1): 82467\n",
      "Num events detected on channel 8 (phase1): 86251\n",
      "Computing PCA features for channel 6 (phase1)...\n",
      "Computing PCA features for channel 4 (phase1)...\n",
      "Computing PCA features for channel 8 (phase1)...\n",
      "Clustering for channel 2 (phase1)...\n",
      "Found 23 clusters for channel 2 (phase1)...\n",
      "Computing templates for channel 2 (phase1)...\n",
      "Clustering for channel 4 (phase1)...\n",
      "Found 25 clusters for channel 4 (phase1)...\n",
      "Computing templates for channel 4 (phase1)...\n",
      "Clustering for channel 6 (phase1)...\n",
      "Clustering for channel 8 (phase1)...\n",
      "Found 20 clusters for channel 6 (phase1)...\n",
      "Computing templates for channel 6 (phase1)...\n",
      "Found 19 clusters for channel 8 (phase1)...\n",
      "Computing templates for channel 8 (phase1)...\n",
      "Re-assigning events for channel 2 (phase1)...\n",
      "Re-assigning 7 events from 2 to 21 with dt=0 (k=2)\n",
      "Re-assigning 37 events from 2 to 21 with dt=0 (k=4)\n",
      "Re-assigning 9 events from 2 to 21 with dt=0 (k=6)\n",
      "Neighboorhood of channel 8 has 24 channels.\n",
      "Detecting events on channel 9 (phase1)...\n",
      "Re-assigning events for channel 4 (phase1)...\n",
      "Re-assigning 267 events from 4 to 11 with dt=-9 (k=2)\n",
      "Re-assigning 1 events from 4 to 24 with dt=17 (k=6)\n",
      "Neighboorhood of channel 10 has 24 channels.\n",
      "Detecting events on channel 11 (phase1)...\n",
      "Re-assigning events for channel 6 (phase1)...\n",
      "Re-assigning events for channel 8 (phase1)...\n",
      "Re-assigning 35 events from 8 to 1 with dt=-11 (k=3)\n",
      "Re-assigning 6 events from 6 to 1 with dt=22 (k=2)\n",
      "Re-assigning 10 events from 6 to 21 with dt=-1 (k=8)\n",
      "Re-assigning 1 events from 8 to 1 with dt=4 (k=10)\n",
      "Re-assigning 49 events from 6 to 21 with dt=0 (k=13)\n",
      "Re-assigning 1 events from 6 to 5 with dt=13 (k=16)\n",
      "Neighboorhood of channel 12 has 24 channels.\n",
      "Detecting events on channel 13 (phase1)...\n",
      "Neighboorhood of channel 14 has 24 channels.\n",
      "Detecting events on channel 15 (phase1)...\n",
      "Elapsed time for detect on neighborhood: 0:07:31.658113\n",
      "Num events detected on channel 9 (phase1): 45605\n",
      "Computing PCA features for channel 9 (phase1)...\n",
      "Elapsed time for detect on neighborhood: 0:07:32.603720\n",
      "Num events detected on channel 11 (phase1): 23989\n",
      "Computing PCA features for channel 11 (phase1)...\n",
      "Elapsed time for detect on neighborhood: 0:07:33.628718\n",
      "Elapsed time for detect on neighborhood: 0:07:33.635294\n",
      "Num events detected on channel 13 (phase1): 76838\n",
      "Num events detected on channel 15 (phase1): 92387\n",
      "Computing PCA features for channel 13 (phase1)...\n",
      "Computing PCA features for channel 15 (phase1)...\n",
      "Clustering for channel 9 (phase1)...\n",
      "Found 18 clusters for channel 9 (phase1)...\n",
      "Computing templates for channel 9 (phase1)...\n",
      "Clustering for channel 11 (phase1)...\n",
      "Found 27 clusters for channel 11 (phase1)...\n",
      "Computing templates for channel 11 (phase1)...\n",
      "Clustering for channel 15 (phase1)...\n",
      "Clustering for channel 13 (phase1)...\n",
      "Found 21 clusters for channel 13 (phase1)...\n",
      "Computing templates for channel 13 (phase1)...\n",
      "Found 19 clusters for channel 15 (phase1)...\n",
      "Computing templates for channel 15 (phase1)...\n",
      "Re-assigning events for channel 9 (phase1)...\n",
      "Re-assigning 9 events from 9 to 14 with dt=-5 (k=3)\n",
      "Neighboorhood of channel 9 has 24 channels.\n",
      "Detecting events on channel 10 (phase1)...\n",
      "Re-assigning events for channel 11 (phase1)...\n",
      "Re-assigning 34 events from 11 to 21 with dt=3 (k=11)\n",
      "Re-assigning 17 events from 11 to 21 with dt=10 (k=21)\n",
      "Re-assigning 1 events from 11 to 21 with dt=0 (k=25)\n",
      "Neighboorhood of channel 11 has 24 channels.\n",
      "Detecting events on channel 12 (phase1)...\n",
      "Re-assigning events for channel 15 (phase1)...\n",
      "Re-assigning events for channel 13 (phase1)...\n",
      "Re-assigning 12 events from 13 to 14 with dt=0 (k=13)\n",
      "Re-assigning 6 events from 15 to 21 with dt=0 (k=2)\n",
      "Neighboorhood of channel 13 has 24 channels.\n",
      "Neighboorhood of channel 15 has 24 channels.\n",
      "Detecting events on channel 14 (phase1)...\n",
      "Detecting events on channel 16 (phase1)...\n",
      "Elapsed time for detect on neighborhood: 0:02:14.654601\n",
      "Num events detected on channel 10 (phase1): 160614\n",
      "Computing PCA features for channel 10 (phase1)...\n",
      "Elapsed time for detect on neighborhood: 0:02:16.127033\n",
      "Num events detected on channel 12 (phase1): 58580\n",
      "Computing PCA features for channel 12 (phase1)...\n",
      "Elapsed time for detect on neighborhood: 0:02:19.591631\n",
      "Elapsed time for detect on neighborhood: 0:02:19.595784\n",
      "Num events detected on channel 14 (phase1): 93369\n",
      "Num events detected on channel 16 (phase1): 29664\n",
      "Computing PCA features for channel 14 (phase1)...\n",
      "Computing PCA features for channel 16 (phase1)...\n",
      "Clustering for channel 10 (phase1)...\n",
      "Found 13 clusters for channel 10 (phase1)...\n",
      "Computing templates for channel 10 (phase1)...\n",
      "Clustering for channel 12 (phase1)...\n",
      "Found 6 clusters for channel 12 (phase1)...\n",
      "Computing templates for channel 12 (phase1)...\n",
      "Clustering for channel 16 (phase1)...\n",
      "Found 12 clusters for channel 16 (phase1)...\n",
      "Computing templates for channel 16 (phase1)...\n",
      "Clustering for channel 14 (phase1)...\n",
      "Found 1 clusters for channel 14 (phase1)...\n",
      "Computing templates for channel 14 (phase1)...\n",
      "Re-assigning events for channel 10 (phase1)...\n",
      "Re-assigning 83 events from 10 to 11 with dt=-1 (k=2)\n",
      "Re-assigning 1 events from 10 to 24 with dt=9 (k=5)\n",
      "Neighboorhood of channel 16 has 24 channels.\n",
      "Detecting events on channel 17 (phase1)...\n",
      "Re-assigning events for channel 12 (phase1)...\n",
      "Neighboorhood of channel 18 has 24 channels.\n",
      "Detecting events on channel 19 (phase1)...\n",
      "Re-assigning events for channel 16 (phase1)...\n",
      "Re-assigning 3 events from 16 to 1 with dt=-6 (k=4)\n",
      "Neighboorhood of channel 20 has 24 channels.\n",
      "Detecting events on channel 21 (phase1)...\n",
      "Re-assigning events for channel 14 (phase1)...\n",
      "Neighboorhood of channel 22 has 24 channels.\n",
      "Detecting events on channel 23 (phase1)...\n",
      "Elapsed time for detect on neighborhood: 1:20:08.264264\n",
      "Num events detected on channel 17 (phase1): 8591\n",
      "Computing PCA features for channel 17 (phase1)...\n",
      "Elapsed time for detect on neighborhood: 1:20:19.093286\n",
      "Num events detected on channel 19 (phase1): 40221\n",
      "Computing PCA features for channel 19 (phase1)...\n",
      "Elapsed time for detect on neighborhood: 1:20:31.009346\n",
      "Num events detected on channel 21 (phase1): 96524\n",
      "Computing PCA features for channel 21 (phase1)...\n",
      "Elapsed time for detect on neighborhood: 1:19:34.757619\n",
      "Num events detected on channel 23 (phase1): 5983\n",
      "Computing PCA features for channel 23 (phase1)...\n",
      "Clustering for channel 17 (phase1)...\n",
      "Found 18 clusters for channel 17 (phase1)...\n",
      "Computing templates for channel 17 (phase1)...\n",
      "Clustering for channel 19 (phase1)...\n",
      "Found 18 clusters for channel 19 (phase1)...\n",
      "Computing templates for channel 19 (phase1)...\n",
      "Clustering for channel 23 (phase1)...\n",
      "Clustering for channel 21 (phase1)...\n",
      "Found 20 clusters for channel 23 (phase1)...\n",
      "Computing templates for channel 23 (phase1)...\n",
      "Found 14 clusters for channel 21 (phase1)...\n",
      "Computing templates for channel 21 (phase1)...\n",
      "Re-assigning events for channel 17 (phase1)...\n",
      "Re-assigning 5 events from 17 to 11 with dt=0 (k=6)\n",
      "Neighboorhood of channel 17 has 24 channels.\n",
      "Detecting events on channel 18 (phase1)...\n",
      "Re-assigning events for channel 19 (phase1)...\n",
      "Re-assigning events for channel 23 (phase1)...\n",
      "Re-assigning 144 events from 19 to 11 with dt=-7 (k=1)\n",
      "Re-assigning events for channel 21 (phase1)...\n",
      "Re-assigning 14 events from 19 to 11 with dt=-8 (k=7)\n",
      "Re-assigning 6 events from 19 to 11 with dt=0 (k=8)\n",
      "Re-assigning 9 events from 21 to 11 with dt=25 (k=14)\n",
      "Neighboorhood of channel 23 has 24 channels.\n",
      "Detecting events on channel 24 (phase1)...\n",
      "Neighboorhood of channel 19 has 24 channels.\n",
      "Detecting events on channel 20 (phase1)...\n",
      "Neighboorhood of channel 21 has 24 channels.\n",
      "Detecting events on channel 22 (phase1)...\n",
      "Elapsed time for detect on neighborhood: 0:02:04.232323\n",
      "Num events detected on channel 18 (phase1): 61502\n",
      "Computing PCA features for channel 18 (phase1)...\n",
      "Elapsed time for detect on neighborhood: 0:02:06.686444\n",
      "Num events detected on channel 24 (phase1): 65493\n",
      "Elapsed time for detect on neighborhood: 0:02:06.678243\n",
      "Computing PCA features for channel 24 (phase1)...\n",
      "Num events detected on channel 20 (phase1): 54837\n",
      "Computing PCA features for channel 20 (phase1)...\n",
      "Elapsed time for detect on neighborhood: 0:02:06.672767\n",
      "Num events detected on channel 22 (phase1): 39773\n",
      "Computing PCA features for channel 22 (phase1)...\n",
      "Clustering for channel 18 (phase1)...\n",
      "Found 22 clusters for channel 18 (phase1)...\n",
      "Computing templates for channel 18 (phase1)...\n",
      "Clustering for channel 24 (phase1)...\n",
      "Found 14 clusters for channel 24 (phase1)...\n",
      "Computing templates for channel 24 (phase1)...\n",
      "Clustering for channel 20 (phase1)...\n",
      "Clustering for channel 22 (phase1)...\n",
      "Found 14 clusters for channel 22 (phase1)...\n",
      "Computing templates for channel 22 (phase1)...\n",
      "Found 22 clusters for channel 20 (phase1)...\n",
      "Computing templates for channel 20 (phase1)...\n",
      "Re-assigning events for channel 18 (phase1)...\n",
      "Re-assigning 86 events from 18 to 1 with dt=0 (k=13)\n",
      "Re-assigning 1 events from 18 to 14 with dt=-24 (k=18)\n",
      "Re-assigning 8 events from 18 to 1 with dt=15 (k=20)\n",
      "Re-assigning events for channel 24 (phase1)...\n",
      "Re-assigning 45 events from 24 to 14 with dt=-19 (k=2)\n",
      "Re-assigning 5 events from 24 to 11 with dt=25 (k=4)\n",
      "Re-assigning 55 events from 24 to 14 with dt=25 (k=6)\n",
      "Re-assigning 1 events from 24 to 14 with dt=-24 (k=7)\n",
      "Re-assigning 14 events from 24 to 14 with dt=-24 (k=8)\n",
      "Re-assigning events for channel 22 (phase1)...\n",
      "Re-assigning events for channel 20 (phase1)...\n",
      "Re-assigning 3 events from 22 to 24 with dt=9 (k=2)\n",
      "Re-assigning 66 events from 20 to 24 with dt=19 (k=3)\n",
      "Re-assigning 1 events from 22 to 14 with dt=3 (k=5)\n",
      "Re-assigning 65 events from 20 to 14 with dt=-14 (k=4)\n",
      "Re-assigning 28 events from 22 to 14 with dt=-16 (k=6)\n",
      "Re-assigning 2 events from 20 to 24 with dt=20 (k=5)\n",
      "Re-assigning 31 events from 20 to 1 with dt=-10 (k=7)\n",
      "Re-assigning 1 events from 20 to 14 with dt=-1 (k=14)\n",
      "Re-assigning 5 events from 20 to 14 with dt=-13 (k=16)\n",
      "Re-assigning 1 events from 20 to 14 with dt=-23 (k=19)\n",
      "Neighboorhood of channel 2 has 24 channels.\n",
      "Neighboorhood of channel 4 has 24 channels.\n",
      "Neighboorhood of channel 0 has 24 channels.\n",
      "Neighboorhood of channel 6 has 24 channels.\n",
      "Computing PCA features for channel 3 (phase2)...\n",
      "Computing PCA features for channel 1 (phase2)...\n",
      "Computing PCA features for channel 5 (phase2)...\n",
      "No duplicate events found for channel 0 in phase2\n",
      "No duplicate events found for channel 2 in phase2\n",
      "No duplicate events found for channel 4 in phase2\n",
      "Computing PCA features for channel 7 (phase2)...\n",
      "No duplicate events found for channel 6 in phase2\n",
      "Clustering for channel 1 (phase2)...\n",
      "Found 9 clusters for channel 1 (phase2)...\n",
      "Neighboorhood of channel 1 has 24 channels.\n",
      "Computing PCA features for channel 2 (phase2)...\n",
      "No duplicate events found for channel 1 in phase2\n",
      "Clustering for channel 3 (phase2)...\n",
      "Clustering for channel 5 (phase2)...\n",
      "Clustering for channel 7 (phase2)...\n",
      "Found 1 clusters for channel 3 (phase2)...\n",
      "Neighboorhood of channel 3 has 24 channels.\n",
      "Computing PCA features for channel 4 (phase2)...\n",
      "No duplicate events found for channel 3 in phase2\n",
      "Found 1 clusters for channel 7 (phase2)...\n",
      "Neighboorhood of channel 7 has 24 channels.\n",
      "Found 2 clusters for channel 5 (phase2)...\n",
      "Neighboorhood of channel 5 has 24 channels.\n",
      "Computing PCA features for channel 8 (phase2)...\n",
      "No duplicate events found for channel 7 in phase2\n",
      "Computing PCA features for channel 6 (phase2)...\n",
      "No duplicate events found for channel 5 in phase2\n",
      "Clustering for channel 4 (phase2)...\n",
      "Clustering for channel 2 (phase2)...\n",
      "Found 1 clusters for channel 2 (phase2)...\n",
      "Neighboorhood of channel 8 has 24 channels.\n",
      "Found 1 clusters for channel 4 (phase2)...\n",
      "Neighboorhood of channel 10 has 24 channels.\n",
      "Computing PCA features for channel 9 (phase2)...\n",
      "No duplicate events found for channel 8 in phase2\n",
      "Computing PCA features for channel 11 (phase2)...\n",
      "No duplicate events found for channel 10 in phase2\n",
      "Clustering for channel 8 (phase2)...\n",
      "Clustering for channel 6 (phase2)...\n",
      "Found 1 clusters for channel 6 (phase2)...\n",
      "Neighboorhood of channel 12 has 24 channels.\n",
      "Found 1 clusters for channel 8 (phase2)...\n",
      "Neighboorhood of channel 14 has 24 channels.\n",
      "Computing PCA features for channel 13 (phase2)...\n",
      "No duplicate events found for channel 12 in phase2\n",
      "Computing PCA features for channel 15 (phase2)...\n",
      "No duplicate events found for channel 14 in phase2\n",
      "Clustering for channel 11 (phase2)...\n",
      "Clustering for channel 9 (phase2)...\n",
      "Found 1 clusters for channel 9 (phase2)...\n",
      "Neighboorhood of channel 9 has 24 channels.\n",
      "Found 19 clusters for channel 11 (phase2)...\n",
      "Neighboorhood of channel 11 has 24 channels.\n",
      "Computing PCA features for channel 12 (phase2)...\n",
      "No duplicate events found for channel 11 in phase2\n",
      "Computing PCA features for channel 10 (phase2)...\n",
      "No duplicate events found for channel 9 in phase2\n",
      "Clustering for channel 13 (phase2)...\n",
      "Clustering for channel 15 (phase2)...\n",
      "Found 1 clusters for channel 15 (phase2)...\n",
      "Neighboorhood of channel 15 has 24 channels.\n",
      "Computing PCA features for channel 16 (phase2)...\n",
      "No duplicate events found for channel 15 in phase2\n",
      "Found 5 clusters for channel 13 (phase2)...\n",
      "Neighboorhood of channel 13 has 24 channels.\n",
      "Computing PCA features for channel 14 (phase2)...\n",
      "WARNING: found 4 of 77749 duplicate events for channel 14 in phase2\n",
      "Clustering for channel 10 (phase2)...\n",
      "Clustering for channel 12 (phase2)...\n",
      "Found 1 clusters for channel 12 (phase2)...\n",
      "Neighboorhood of channel 16 has 24 channels.\n",
      "Computing PCA features for channel 17 (phase2)...\n",
      "No duplicate events found for channel 16 in phase2\n",
      "Found 1 clusters for channel 10 (phase2)...\n",
      "Neighboorhood of channel 18 has 24 channels.\n",
      "Computing PCA features for channel 19 (phase2)...\n",
      "No duplicate events found for channel 18 in phase2\n",
      "Clustering for channel 16 (phase2)...\n",
      "Found 1 clusters for channel 16 (phase2)...\n",
      "Neighboorhood of channel 20 has 24 channels.\n",
      "Computing PCA features for channel 21 (phase2)...\n",
      "No duplicate events found for channel 20 in phase2\n",
      "Clustering for channel 14 (phase2)...\n",
      "Found 10 clusters for channel 14 (phase2)...\n",
      "Neighboorhood of channel 22 has 24 channels.\n",
      "Computing PCA features for channel 23 (phase2)...\n",
      "No duplicate events found for channel 22 in phase2\n",
      "Clustering for channel 17 (phase2)...\n",
      "Clustering for channel 23 (phase2)...\n",
      "Found 1 clusters for channel 23 (phase2)...\n",
      "Found 1 clusters for channel 17 (phase2)...\n",
      "Neighboorhood of channel 23 has 24 channels.\n",
      "Neighboorhood of channel 17 has 24 channels.\n",
      "Computing PCA features for channel 24 (phase2)...\n",
      "No duplicate events found for channel 23 in phase2\n",
      "Computing PCA features for channel 18 (phase2)...\n",
      "No duplicate events found for channel 17 in phase2\n",
      "Clustering for channel 19 (phase2)...\n",
      "Clustering for channel 21 (phase2)...\n",
      "Found 1 clusters for channel 19 (phase2)...\n",
      "Neighboorhood of channel 19 has 24 channels.\n",
      "Computing PCA features for channel 20 (phase2)...\n",
      "No duplicate events found for channel 19 in phase2\n",
      "Found 12 clusters for channel 21 (phase2)...\n",
      "Neighboorhood of channel 21 has 24 channels.\n",
      "Computing PCA features for channel 22 (phase2)...\n",
      "No duplicate events found for channel 21 in phase2\n",
      "Clustering for channel 24 (phase2)...\n",
      "Found 7 clusters for channel 24 (phase2)...\n",
      "Clustering for channel 18 (phase2)...\n",
      "Found 1 clusters for channel 18 (phase2)...\n",
      "Clustering for channel 22 (phase2)...\n",
      "Clustering for channel 20 (phase2)...\n",
      "Found 1 clusters for channel 22 (phase2)...\n",
      "Found 1 clusters for channel 20 (phase2)...\n",
      "Preparing output...\n",
      "Done with ms4alg.\n",
      "Cleaning tmpdir::::: /tmp/tmp4plt8n_8\n",
      "mountainsort4 run time 3474.71s\n"
     ]
    }
   ],
   "source": [
    "ms4_out = ss.run_mountainsort4(recordingFull, output_folder = 'mountainsort4_test', **ms4_params, verbose=True)"
   ]
  }
 ],
 "metadata": {
  "kernelspec": {
   "display_name": "Python 3",
   "language": "python",
   "name": "python3"
  },
  "language_info": {
   "codemirror_mode": {
    "name": "ipython",
    "version": 3
   },
   "file_extension": ".py",
   "mimetype": "text/x-python",
   "name": "python",
   "nbconvert_exporter": "python",
   "pygments_lexer": "ipython3",
   "version": "3.7.3"
  }
 },
 "nbformat": 4,
 "nbformat_minor": 4
}
