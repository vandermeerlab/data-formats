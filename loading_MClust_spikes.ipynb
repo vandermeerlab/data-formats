{
 "cells": [
  {
   "cell_type": "code",
   "execution_count": 1,
   "metadata": {},
   "outputs": [],
   "source": [
    "%matplotlib inline\n",
    "\n",
    "import os\n",
    "import numpy as np\n",
    "import spikeinterface.extractors as se\n",
    "import spikeinterface.widgets as sw\n",
    "\n",
    "from loader_mclust import load_spikes"
   ]
  },
  {
   "cell_type": "code",
   "execution_count": 2,
   "metadata": {},
   "outputs": [],
   "source": [
    "# file_path = 'data/BiconditionalOdor/M040-2020-04-28-CDOD11'\n",
    "file_path = 'data/BiconditionalOdor/M040-2020-04-29-CDOD12/'\n",
    "\n",
    "units = load_spikes(file_path)"
   ]
  },
  {
   "cell_type": "code",
   "execution_count": 5,
   "metadata": {},
   "outputs": [
    {
     "data": {
      "text/plain": [
       "12"
      ]
     },
     "execution_count": 5,
     "metadata": {},
     "output_type": "execute_result"
    }
   ],
   "source": [
    "len(units)"
   ]
  },
  {
   "cell_type": "code",
   "execution_count": 6,
   "metadata": {},
   "outputs": [
    {
     "data": {
      "text/plain": [
       "['08_2',\n",
       " '04_3',\n",
       " '08_1',\n",
       " '03_1',\n",
       " '07_1',\n",
       " '06_1',\n",
       " '04_1',\n",
       " '05_1',\n",
       " '03_2',\n",
       " '06_2',\n",
       " '05_2',\n",
       " '04_2']"
      ]
     },
     "execution_count": 6,
     "metadata": {},
     "output_type": "execute_result"
    }
   ],
   "source": [
    "# Tetrode 3_?\n",
    "[s.label for s in units]"
   ]
  },
  {
   "cell_type": "code",
   "execution_count": 7,
   "metadata": {},
   "outputs": [],
   "source": [
    "# Seems to ok to pad labels with zero?\n",
    "# Reference: https://spikeinterface.github.io/blog/\n",
    "\n",
    "sampling_frequency = 30000"
   ]
  },
  {
   "cell_type": "code",
   "execution_count": 8,
   "metadata": {},
   "outputs": [],
   "source": [
    "# Let's concatenate all the units with unique per each unit labels\n",
    "# into numpy arrays and pass it all to NumpySortingExtractor\n",
    "all_times = []\n",
    "all_labels = []\n",
    "units_map = []\n",
    "for u_index, u in enumerate(units):\n",
    "    all_times += [u.time]\n",
    "    all_labels += [u_index] * len(u.time)\n",
    "    units_map.append(u.label)\n",
    "all_times = np.hstack(all_times)\n",
    "all_labels = np.hstack(all_labels)\n",
    "assert all_times.ndim == 1\n",
    "assert all_times.shape == all_labels.shape"
   ]
  },
  {
   "cell_type": "code",
   "execution_count": 9,
   "metadata": {},
   "outputs": [
    {
     "data": {
      "text/plain": [
       "array([ 0,  0,  0, ..., 11, 11, 11])"
      ]
     },
     "execution_count": 9,
     "metadata": {},
     "output_type": "execute_result"
    }
   ],
   "source": [
    "all_labels"
   ]
  },
  {
   "cell_type": "code",
   "execution_count": 10,
   "metadata": {},
   "outputs": [
    {
     "data": {
      "text/plain": [
       "['08_2',\n",
       " '04_3',\n",
       " '08_1',\n",
       " '03_1',\n",
       " '07_1',\n",
       " '06_1',\n",
       " '04_1',\n",
       " '05_1',\n",
       " '03_2',\n",
       " '06_2',\n",
       " '05_2',\n",
       " '04_2']"
      ]
     },
     "execution_count": 10,
     "metadata": {},
     "output_type": "execute_result"
    }
   ],
   "source": [
    "units_map"
   ]
  },
  {
   "cell_type": "code",
   "execution_count": 11,
   "metadata": {},
   "outputs": [],
   "source": [
    "sorting = se.NumpySortingExtractor()\n",
    "sorting.set_times_labels(times=all_times, labels=all_labels )\n",
    "sorting.set_sampling_frequency(sampling_frequency=sampling_frequency)"
   ]
  },
  {
   "cell_type": "code",
   "execution_count": 12,
   "metadata": {},
   "outputs": [
    {
     "name": "stdout",
     "output_type": "stream",
     "text": [
      "Unit ids = [0, 1, 2, 3, 4, 5, 6, 7, 8, 9, 10, 11]\n",
      "Num. events for unit 1 = 1676\n"
     ]
    }
   ],
   "source": [
    "unit_ids = sorting.get_unit_ids()\n",
    "print('Unit ids = {}'.format(unit_ids))\n",
    "st = sorting.get_unit_spike_train(unit_id=unit_ids[0])\n",
    "print('Num. events for unit 1 = {}'.format(len(st)))\n",
    "# We don't have spike trains here, only spike times.\n",
    "#st1 = sorting.get_unit_spike_train(unit_id=unit_ids[0], start_frame=0, end_frame=1) # sampling_frequency)\n",
    "# print('Num. events for first second of unit 1 = {}'.format(len(st1)))"
   ]
  }
 ],
 "metadata": {
  "kernelspec": {
   "display_name": "Python 3",
   "language": "python",
   "name": "python3"
  },
  "language_info": {
   "codemirror_mode": {
    "name": "ipython",
    "version": 3
   },
   "file_extension": ".py",
   "mimetype": "text/x-python",
   "name": "python",
   "nbconvert_exporter": "python",
   "pygments_lexer": "ipython3",
   "version": "3.7.7"
  }
 },
 "nbformat": 4,
 "nbformat_minor": 1
}
