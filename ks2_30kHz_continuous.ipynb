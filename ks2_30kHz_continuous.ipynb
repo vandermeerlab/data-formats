{
 "cells": [
  {
   "cell_type": "markdown",
   "metadata": {},
   "source": [
    "## First pass attempt to run Kilosort2 using spikeinterfaces\n",
    "The data used for this purpose is on continuously sampled wideband data collected by Jimmi Gmaz (van der Meer lab) [Insert Link to datalad repository when available]"
   ]
  },
  {
   "cell_type": "markdown",
   "metadata": {},
   "source": [
    "## Prerequisites\n",
    "- Computer with NVIDIA GPU\n",
    "- Install Matlab and compatible CUDA libraries\n",
    "- Download Kilosort2 and compile all the MEX files in the 'CUDA folder'. For details follow the documentation on the [Kilosort2 repository.](https://github.com/MouseLand/Kilosort2/)\n"
   ]
  },
  {
   "cell_type": "code",
   "execution_count": 1,
   "metadata": {},
   "outputs": [],
   "source": [
    "# Recommended import aliases: https://spikeinterface.readthedocs.io/en/latest/getting_started/plot_getting_started.html\n",
    "import spikeinterface.extractors as se\n",
    "import spikeinterface.toolkit as st\n",
    "import spikeinterface.sorters as ss\n",
    "import spikeinterface.comparison as sc\n",
    "import spikeinterface.widgets as sw\n",
    "# Additional imports\n",
    "import os.path as op\n",
    "import neo  # neo for some direct reading to check on # of segments etc\n",
    "import numpy as np\n",
    "import matplotlib.pyplot as plt\n",
    "import os"
   ]
  },
  {
   "cell_type": "code",
   "execution_count": 2,
   "metadata": {},
   "outputs": [
    {
     "name": "stdout",
     "output_type": "stream",
     "text": [
      "NeuralynxIO: D:\\M40\\M40-2020-04-29-CDOD12\n",
      "nb_block: 1\n",
      "nb_segment:  [5]\n",
      "signal_channels: [CSC10, CSC11, CSC12, CSC13 ... CSC30 CSC31 CSC32 CSC9]\n",
      "unit_channels: [chTT3#13#0, chTT3#14#0, chTT3#8#0, chTT3#24#0 ... chTT8#3#0 chTT8#4#0 chTT8#19#0 chTT8#20#0]\n",
      "event_channels: [Events event_id=11 ttl=0, Events event_id=11 ttl=1, Events event_id=11 ttl=2, Events event_id=11 ttl=4 ... Events event_id=11 ttl=48 Events event_id=11 ttl=64 Events event_id=11 ttl=96 Events event_id=19 ttl=0]\n",
      "\n"
     ]
    }
   ],
   "source": [
    "# sample_file can be any file in the directory which has ALL the ncs files.\n",
    "# TODO: Replace file location with relative filepath once available on datalad\n",
    "sample_file = 'D:\\M40\\M40-2020-04-29-CDOD12\\CSC1.ncs'\n",
    "dname = (op.dirname(sample_file))\n",
    "# print(dname)\n",
    "# Throws an error if the the ncs files don't have the same length\n",
    "# On omitting the file with a different length, this works (M40-2020-04-28-CDOD11/CSC26.ncs for instance)\n",
    "reader = neo.NeuralynxIO(dirname=dname)\n",
    "print(reader)"
   ]
  },
  {
   "cell_type": "markdown",
   "metadata": {},
   "source": [
    "**NOTE:** The following section with the Python gymnastics (or hacks) can be entirely skipped if a probe geometry file is present in the directory, along with all the channel mappings"
   ]
  },
  {
   "cell_type": "code",
   "execution_count": 3,
   "metadata": {},
   "outputs": [
    {
     "name": "stdout",
     "output_type": "stream",
     "text": [
      "OrderedDict([(('TT3', 13), 'D:\\\\M40\\\\M40-2020-04-29-CDOD12\\\\TT3.ntt'), (('TT3', 14), 'D:\\\\M40\\\\M40-2020-04-29-CDOD12\\\\TT3.ntt'), (('TT3', 8), 'D:\\\\M40\\\\M40-2020-04-29-CDOD12\\\\TT3.ntt'), (('TT3', 24), 'D:\\\\M40\\\\M40-2020-04-29-CDOD12\\\\TT3.ntt'), (('TT4', 31), 'D:\\\\M40\\\\M40-2020-04-29-CDOD12\\\\TT4.ntt'), (('TT4', 15), 'D:\\\\M40\\\\M40-2020-04-29-CDOD12\\\\TT4.ntt'), (('TT4', 9), 'D:\\\\M40\\\\M40-2020-04-29-CDOD12\\\\TT4.ntt'), (('TT4', 25), 'D:\\\\M40\\\\M40-2020-04-29-CDOD12\\\\TT4.ntt'), (('TT5', 23), 'D:\\\\M40\\\\M40-2020-04-29-CDOD12\\\\TT5.ntt'), (('TT5', 7), 'D:\\\\M40\\\\M40-2020-04-29-CDOD12\\\\TT5.ntt'), (('TT5', 1), 'D:\\\\M40\\\\M40-2020-04-29-CDOD12\\\\TT5.ntt'), (('TT5', 2), 'D:\\\\M40\\\\M40-2020-04-29-CDOD12\\\\TT5.ntt'), (('TT6', 22), 'D:\\\\M40\\\\M40-2020-04-29-CDOD12\\\\TT6.ntt'), (('TT6', 6), 'D:\\\\M40\\\\M40-2020-04-29-CDOD12\\\\TT6.ntt'), (('TT6', 0), 'D:\\\\M40\\\\M40-2020-04-29-CDOD12\\\\TT6.ntt'), (('TT6', 16), 'D:\\\\M40\\\\M40-2020-04-29-CDOD12\\\\TT6.ntt'), (('TT7', 17), 'D:\\\\M40\\\\M40-2020-04-29-CDOD12\\\\TT7.ntt'), (('TT7', 18), 'D:\\\\M40\\\\M40-2020-04-29-CDOD12\\\\TT7.ntt'), (('TT7', 5), 'D:\\\\M40\\\\M40-2020-04-29-CDOD12\\\\TT7.ntt'), (('TT7', 21), 'D:\\\\M40\\\\M40-2020-04-29-CDOD12\\\\TT7.ntt'), (('TT8', 3), 'D:\\\\M40\\\\M40-2020-04-29-CDOD12\\\\TT8.ntt'), (('TT8', 4), 'D:\\\\M40\\\\M40-2020-04-29-CDOD12\\\\TT8.ntt'), (('TT8', 19), 'D:\\\\M40\\\\M40-2020-04-29-CDOD12\\\\TT8.ntt'), (('TT8', 20), 'D:\\\\M40\\\\M40-2020-04-29-CDOD12\\\\TT8.ntt')]) \n",
      "\n",
      "OrderedDict([(('CSC10', 31), 'D:\\\\M40\\\\M40-2020-04-29-CDOD12\\\\CSC10.ncs'), (('CSC11', 14), 'D:\\\\M40\\\\M40-2020-04-29-CDOD12\\\\CSC11.ncs'), (('CSC12', 15), 'D:\\\\M40\\\\M40-2020-04-29-CDOD12\\\\CSC12.ncs'), (('CSC13', 9), 'D:\\\\M40\\\\M40-2020-04-29-CDOD12\\\\CSC13.ncs'), (('CSC14', 8), 'D:\\\\M40\\\\M40-2020-04-29-CDOD12\\\\CSC14.ncs'), (('CSC15', 25), 'D:\\\\M40\\\\M40-2020-04-29-CDOD12\\\\CSC15.ncs'), (('CSC16', 24), 'D:\\\\M40\\\\M40-2020-04-29-CDOD12\\\\CSC16.ncs'), (('CSC17', 23), 'D:\\\\M40\\\\M40-2020-04-29-CDOD12\\\\CSC17.ncs'), (('CSC18', 22), 'D:\\\\M40\\\\M40-2020-04-29-CDOD12\\\\CSC18.ncs'), (('CSC19', 7), 'D:\\\\M40\\\\M40-2020-04-29-CDOD12\\\\CSC19.ncs'), (('CSC20', 6), 'D:\\\\M40\\\\M40-2020-04-29-CDOD12\\\\CSC20.ncs'), (('CSC21', 0), 'D:\\\\M40\\\\M40-2020-04-29-CDOD12\\\\CSC21.ncs'), (('CSC22', 1), 'D:\\\\M40\\\\M40-2020-04-29-CDOD12\\\\CSC22.ncs'), (('CSC23', 16), 'D:\\\\M40\\\\M40-2020-04-29-CDOD12\\\\CSC23.ncs'), (('CSC24', 2), 'D:\\\\M40\\\\M40-2020-04-29-CDOD12\\\\CSC24.ncs'), (('CSC25', 17), 'D:\\\\M40\\\\M40-2020-04-29-CDOD12\\\\CSC25.ncs'), (('CSC26', 3), 'D:\\\\M40\\\\M40-2020-04-29-CDOD12\\\\CSC26.ncs'), (('CSC27', 18), 'D:\\\\M40\\\\M40-2020-04-29-CDOD12\\\\CSC27.ncs'), (('CSC28', 4), 'D:\\\\M40\\\\M40-2020-04-29-CDOD12\\\\CSC28.ncs'), (('CSC29', 19), 'D:\\\\M40\\\\M40-2020-04-29-CDOD12\\\\CSC29.ncs'), (('CSC30', 5), 'D:\\\\M40\\\\M40-2020-04-29-CDOD12\\\\CSC30.ncs'), (('CSC31', 20), 'D:\\\\M40\\\\M40-2020-04-29-CDOD12\\\\CSC31.ncs'), (('CSC32', 21), 'D:\\\\M40\\\\M40-2020-04-29-CDOD12\\\\CSC32.ncs'), (('CSC9', 13), 'D:\\\\M40\\\\M40-2020-04-29-CDOD12\\\\CSC9.ncs')]) \n",
      "\n"
     ]
    }
   ],
   "source": [
    "# These are ordered dictionary from which we can extract the CSC/TT to AD channels mapping\n",
    "# Ideally these should be present in the promoted dataset or should be more cleanly extracted \n",
    "print(reader.nse_ntt_filenames,\"\\n\")\n",
    "print(reader.ncs_filenames,\"\\n\")"
   ]
  },
  {
   "cell_type": "code",
   "execution_count": 4,
   "metadata": {},
   "outputs": [],
   "source": [
    "# Creating an AD channel to CSC file mapping\n",
    "ntt_channel_id_name = {}\n",
    "for key,value in reader.nse_ntt_filenames:\n",
    "    ntt_channel_id_name[value] = key\n",
    "# print(ntt_channel_id_name)"
   ]
  },
  {
   "cell_type": "code",
   "execution_count": 5,
   "metadata": {},
   "outputs": [],
   "source": [
    "# Creating AD channel to TT and TT to AD channel mapping\n",
    "ncs_channel_name_id = {}\n",
    "ncs_channel_id_name = {}\n",
    "for key,value in reader.ncs_filenames:\n",
    "    ncs_channel_name_id[key] = value\n",
    "    ncs_channel_id_name[value] = key\n",
    "# print(ncs_channel_name_id)\n",
    "# print(ncs_channel_id_name)"
   ]
  },
  {
   "cell_type": "code",
   "execution_count": 6,
   "metadata": {},
   "outputs": [],
   "source": [
    "# Creating TT to CSC mapping, to be used for creating 'channel groups' later\n",
    "ntt_ncs_map = {}\n",
    "for key in ntt_channel_id_name.keys():\n",
    "    if ntt_channel_id_name[key] in ntt_ncs_map:\n",
    "        ntt_ncs_map[ntt_channel_id_name[key]].append(ncs_channel_id_name[key])\n",
    "    else:\n",
    "        ntt_ncs_map[ntt_channel_id_name[key]] = []\n",
    "        ntt_ncs_map[ntt_channel_id_name[key]].append(ncs_channel_id_name[key])\n",
    "# print (ntt_ncs_map)"
   ]
  },
  {
   "cell_type": "code",
   "execution_count": 7,
   "metadata": {},
   "outputs": [],
   "source": [
    "recordingList = [se.NeuralynxRecordingExtractor(dirname=op.dirname(sample_file), seg_index=i) for i in range(reader.segment_count(0))]\n",
    "\n",
    "# This concatenates mutiple segments together\n",
    "recordingFull = se.MultiRecordingTimeExtractor(recordingList)"
   ]
  },
  {
   "cell_type": "markdown",
   "metadata": {},
   "source": [
    "<table><tr>\n",
    "<td> <img src=\"ks2_test/A4x2-tet-CM42-channelMap.png\" alt=\"Drawing\"/> </td>\n",
    "<td> <img src=\"ks2_test/A4x2-tet-CM42-probeGeometry.png\" alt=\"Drawing\"/> </td>\n",
    "</tr></table>"
   ]
  },
  {
   "cell_type": "markdown",
   "metadata": {},
   "source": [
    "## Location generation Code\n",
    "Based on the images above, I generate positions for the various channels"
   ]
  },
  {
   "cell_type": "code",
   "execution_count": 8,
   "metadata": {},
   "outputs": [],
   "source": [
    "# The keys refer to the contact ids as referred in the above images\n",
    "# The CSC names were based on these contact names, so that reduces the need to define yet another mapping.\n",
    "location_keys_1 = [6,1,8,3];\n",
    "location_keys_2 = [5,2,7,4];\n",
    "seed1 = np.array([0, 0])\n",
    "seed2 = np.array([0,150])\n",
    "x_offset = np.array([200,0])\n",
    "location_values_1 = [seed1, seed1+([-25/np.sqrt(2),25/np.sqrt(2)]), seed1+np.array([25/np.sqrt(2),25/np.sqrt(2)]), seed1+np.array([0,50/np.sqrt(2)])]\n",
    "location_values_2 = [seed2, seed2+([-25/np.sqrt(2),25/np.sqrt(2)]), seed2+np.array([25/np.sqrt(2),25/np.sqrt(2)]), seed2+np.array([0,50/np.sqrt(2)])]\n",
    "for i in range(3):\n",
    "    location_keys_1.extend([location_keys_1[j]+8*(i+1) for j in range(4)])\n",
    "    location_values_1.extend(location_values_1[j]+x_offset*(i+1) for j in range(4))\n",
    "    location_keys_2.extend([location_keys_2[j]+8*(i+1) for j in range(4)])\n",
    "    location_values_2.extend(location_values_2[j]+x_offset*(i+1) for j in range(4))\n",
    "# print (location_keys_1)\n",
    "# print (location_keys_2)\n",
    "location_name_keys = location_keys_1 + location_keys_2\n",
    "location_name_keys = ['CSC'+str(x) for x in location_name_keys]\n",
    "location_values = location_values_1 + location_values_2\n",
    "# print(location_name_keys, location_values)\n",
    "location_dict = {}\n",
    "for i in range(len(location_name_keys)):\n",
    "    location_dict[location_name_keys[i]] = location_values[i]\n",
    "# print(location_dict)"
   ]
  },
  {
   "cell_type": "code",
   "execution_count": 9,
   "metadata": {},
   "outputs": [
    {
     "data": {
      "image/png": "[encoded data removed]",
      "text/plain": [
       "<Figure size 432x288 with 1 Axes>"
      ]
     },
     "metadata": {
      "needs_background": "light"
     },
     "output_type": "display_data"
    }
   ],
   "source": [
    "# Sanity check to see that the relative locations of the various channels match that of the images above\n",
    "xcoords = [pos[0] for pos in location_values]\n",
    "ycoords = [pos[1] for pos in location_values]\n",
    "fig,ax = plt.subplots()\n",
    "ax.axis('off')\n",
    "for i in range(len(xcoords)):\n",
    "    plt.text(xcoords[i]/200,ycoords[i]/200,location_name_keys[i])\n"
   ]
  },
  {
   "cell_type": "code",
   "execution_count": 10,
   "metadata": {},
   "outputs": [],
   "source": [
    "# These channel ids reflect the AD-channels (I don't know if this is specific to Neuralynx Extractor or not, \n",
    "# but I guess not because I extracted the mapping before even calling the Neuralynx extractor). Therefore we use the\n",
    "# mappings obtained earlier to assign locations and groups correctly\n",
    "channel_ids = recordingFull.get_channel_ids()\n",
    "\n",
    "# Set channel groups based on the CSC-TT mapping, could be changed to CSC-shank or whatever else is suitable later\n",
    "group_ids = [int(ntt_channel_id_name[channel_ids[i]][2:]) for i in range(len(channel_ids))]\n",
    "# print(group_ids)\n",
    "recordingFull.set_channel_groups(group_ids)\n",
    "# Set channel locations from the ones generated above\n",
    "channel_locs = np.array([location_dict[ncs_channel_id_name[channel_ids[i]]] for i in range(len(channel_ids))])\n",
    "# print (channel_locs)\n",
    "recordingFull.set_channel_locations(channel_locs)"
   ]
  },
  {
   "cell_type": "code",
   "execution_count": 11,
   "metadata": {},
   "outputs": [
    {
     "data": {
      "image/png": "[encoded data removed]",
      "text/plain": [
       "<Figure size 432x288 with 1 Axes>"
      ]
     },
     "metadata": {
      "needs_background": "light"
     },
     "output_type": "display_data"
    }
   ],
   "source": [
    "# Sanity check to see if the correct locations have been assigned\n",
    "# In this case the first shank TT1 and TT2 were not used for the recording, so the assignment looks fine\n",
    "xcoords = [pos[0] for pos in channel_locs]\n",
    "ycoords = [pos[1] for pos in channel_locs]\n",
    "fig,ax = plt.subplots()\n",
    "ax.axis('off')\n",
    "for i in range(len(xcoords)):\n",
    "    plt.text(xcoords[i]/200,ycoords[i]/200,ncs_channel_id_name[channel_ids[i]])"
   ]
  },
  {
   "cell_type": "code",
   "execution_count": 12,
   "metadata": {},
   "outputs": [
    {
     "name": "stdout",
     "output_type": "stream",
     "text": [
      "['hdsort', 'herdingspikes', 'ironclust', 'kilosort', 'kilosort2', 'klusta', 'mountainsort4', 'spykingcircus', 'tridesclous', 'waveclus']\n"
     ]
    }
   ],
   "source": [
    "# This should contain kilosort2\n",
    "print (ss.available_sorters())"
   ]
  },
  {
   "cell_type": "code",
   "execution_count": 13,
   "metadata": {},
   "outputs": [
    {
     "name": "stdout",
     "output_type": "stream",
     "text": [
      "{'detect_threshold': 5, 'projection_threshold': [10, 4], 'preclust_threshold': 8, 'car': True, 'minFR': 0.1, 'minfr_goodchannels': 0.1, 'freq_min': 150, 'sigmaMask': 30, 'nPCs': 3, 'ntbuff': 64, 'nfilt_factor': 4, 'NT': None, 'keep_good_only': False}\n"
     ]
    }
   ],
   "source": [
    "# These params should be changed and passed on kwargs if needed\n",
    "ks2_params = ss.Kilosort2Sorter.default_params()\n",
    "print(ks2_params)\n",
    "\n",
    "# Example of changing parameter\n",
    "ks2_params['projection_threshold'] = [20, 15]"
   ]
  },
  {
   "cell_type": "code",
   "execution_count": 14,
   "metadata": {},
   "outputs": [
    {
     "data": {
      "text/plain": [
       "'\\nTo use Kilosort2 run:\\n\\n        >>> git clone https://github.com/MouseLand/Kilosort2\\n    and provide the installation path by setting the KILOSORT2_PATH\\n    environment variables or using Kilosort2Sorter.set_kilosort2_path().\\n\\n\\n\\n    More information on Kilosort2 at:\\n        https://github.com/MouseLand/Kilosort2\\n    '"
      ]
     },
     "execution_count": 14,
     "metadata": {},
     "output_type": "execute_result"
    }
   ],
   "source": [
    "# This displays how to set KS2 path\n",
    "ss.Kilosort2Sorter.installation_mesg"
   ]
  },
  {
   "cell_type": "code",
   "execution_count": 15,
   "metadata": {},
   "outputs": [
    {
     "name": "stdout",
     "output_type": "stream",
     "text": [
      "Setting KILOSORT2_PATH environment variable for subprocess calls to: D:\\AutomaticSpikeSort\\Kilosort2\n"
     ]
    }
   ],
   "source": [
    "# Set the path tothe Kilosort repository\n",
    "ss.Kilosort2Sorter.set_kilosort2_path('D:\\AutomaticSpikeSort\\Kilosort2')"
   ]
  },
  {
   "cell_type": "code",
   "execution_count": 16,
   "metadata": {},
   "outputs": [
    {
     "data": {
      "text/plain": [
       "True"
      ]
     },
     "execution_count": 16,
     "metadata": {},
     "output_type": "execute_result"
    }
   ],
   "source": [
    "# This should return true if the path is set correctly\n",
    "# Kilosort2 won't run if this is False\n",
    "ss.Kilosort2Sorter.installed"
   ]
  },
  {
   "cell_type": "code",
   "execution_count": 17,
   "metadata": {},
   "outputs": [
    {
     "name": "stdout",
     "output_type": "stream",
     "text": [
      "WARNING! The recording contains several group. In order to spike sort by 'group' use grouping_property='group' as argument.\n",
      "Skipping field: only int or float can be serialized\n",
      "Skipping field: only int or float can be serialized\n",
      "RUNNING SHELL SCRIPT: C:\\Users\\mvdmlab\\ss_ks2_test3\\run_kilosort2.bat\n"
     ]
    }
   ],
   "source": [
    "# Does not work if the working/output folder is in a different drive/directory, must change the directory outside the function call\n",
    "# SS folks suggest the same, see https://github.com/SpikeInterface/spikesorters/issues/94\n",
    "# KS2 folks suggest that the output/Working directory should reside on an SSD\n",
    "\n",
    "# For now run KS2 on all channels without caring about channel groups. For discussion about details see: https://github.com/SpikeInterface/spikesorters/issues/150\n",
    "cwd = os.getcwd()\n",
    "os.chdir('C:/Users/mvdmlab')# ks2_out0 = ss.run_kilosort2(recordingFull)\n",
    "\n",
    "# This launches a matlab instance using a shell command so the KS2 log is present only on the matlab console, which vanishes after finishing its run or if it runs into an error.\n",
    "# Ideally the shell command needs to be modified so the Maltab console output is logged to somewhere more permanent.\n",
    "# Possible solutions below (Need to explore)\n",
    "# 1) https://www.mathworks.com/matlabcentral/answers/102082-how-do-i-call-matlab-from-the-dos-prompt#answer_419655\n",
    "# 2) https://stackoverflow.com/questions/7714709/writing-log-statements-to-standard-output-with-matlab/41818741#41818741\n",
    "\n",
    "# UPDATE: Opened an issue suggesting the same to SS folks here, https://github.com/SpikeInterface/spikesorters/issues/151\n",
    "\n",
    "ks2_out0 = ss.run_kilosort2(recordingFull, output_folder = 'C:/Users/mvdmlab/ss_ks2_test3', **ks2_params)\n",
    "\n",
    "# TODO: Delete the recording.dat file and the temp.wh file since they are needed only for the sorting and not later on for comapring/viewing results and occupy a lot of space\n",
    "\n",
    "# Alternate way of runnng the kilosort. Works!!\n",
    "# ks2_out1 = ss.run_sorters(['kilosort2'],[recordingFull], working_folder='C:/Users/mvdmlab/ss_ks2test')\n",
    "\n",
    "os.chdir(cwd)"
   ]
  },
  {
   "cell_type": "code",
   "execution_count": null,
   "metadata": {},
   "outputs": [
    {
     "name": "stdout",
     "output_type": "stream",
     "text": [
      "Skipping field: only int or float can be serialized\n",
      "Skipping field: only int or float can be serialized\n",
      "Skipping field: only int or float can be serialized\n",
      "Skipping field: only int or float can be serialized\n",
      "Skipping field: only int or float can be serialized\n",
      "Skipping field: only int or float can be serialized\n",
      "Skipping field: only int or float can be serialized\n",
      "Skipping field: only int or float can be serialized\n",
      "Skipping field: only int or float can be serialized\n",
      "Skipping field: only int or float can be serialized\n",
      "Skipping field: only int or float can be serialized\n",
      "Skipping field: only int or float can be serialized\n",
      "RUNNING SHELL SCRIPT: C:\\Users\\mvdmlab\\ss_ks2test_group\\0\\run_kilosort2.bat\n",
      "RUNNING SHELL SCRIPT: C:\\Users\\mvdmlab\\ss_ks2test_group\\1\\run_kilosort2.bat\n",
      "RUNNING SHELL SCRIPT: C:\\Users\\mvdmlab\\ss_ks2test_group\\2\\run_kilosort2.bat\n",
      "RUNNING SHELL SCRIPT: C:\\Users\\mvdmlab\\ss_ks2test_group\\3\\run_kilosort2.bat\n",
      "RUNNING SHELL SCRIPT: C:\\Users\\mvdmlab\\ss_ks2test_group\\4\\run_kilosort2.bat\n",
      "RUNNING SHELL SCRIPT: C:\\Users\\mvdmlab\\ss_ks2test_group\\5\\run_kilosort2.bat\n"
     ]
    }
   ],
   "source": [
    "# This runs KS2 separately on each channel group. It creates one folder for each channel group, with the folder names starting\n",
    "# from 0 to the number of groups-1.\n",
    "# This is not recommended by the KS2 folks: https://github.com/MouseLand/Kilosort2/issues/21\n",
    "# Works!!\n",
    "# ks2_out2 = ss.run_kilosort2(recordingFull, output_folder = 'C:/Users/mvdmlab/ss_ks2test_group', grouping_property = 'group')"
   ]
  }
 ],
 "metadata": {
  "kernelspec": {
   "display_name": "Python 3",
   "language": "python",
   "name": "python3"
  },
  "language_info": {
   "codemirror_mode": {
    "name": "ipython",
    "version": 3
   },
   "file_extension": ".py",
   "mimetype": "text/x-python",
   "name": "python",
   "nbconvert_exporter": "python",
   "pygments_lexer": "ipython3",
   "version": "3.7.6"
  }
 },
 "nbformat": 4,
 "nbformat_minor": 4
}
