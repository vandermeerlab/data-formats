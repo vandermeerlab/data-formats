{
 "cells": [
  {
   "cell_type": "markdown",
   "metadata": {},
   "source": [
    "## First pass attempt to run Kilosort2 using spikeinterfaces\n",
    "The data used for this purpose is on continuously sampled wideband data collected by Jimmie Gmaz. [(Source)](http://datasets.datalad.org/?dir=/labs/mvdm/BiconditionalOdor)"
   ]
  },
  {
   "cell_type": "markdown",
   "metadata": {},
   "source": [
    "## Prerequisites\n",
    "- Computer with NVIDIA GPU\n",
    "- Install Matlab and compatible CUDA libraries\n",
    "- Download Kilosort2 and compile all the MEX files in the 'CUDA folder'. For details follow the documentation on the [Kilosort2 repository.](https://github.com/MouseLand/Kilosort2/)\n"
   ]
  },
  {
   "cell_type": "code",
   "execution_count": 1,
   "metadata": {},
   "outputs": [],
   "source": [
    "# Recommended import aliases: https://spikeinterface.readthedocs.io/en/latest/getting_started/plot_getting_started.html\n",
    "import spikeinterface.extractors as se\n",
    "import spikeinterface.toolkit as st\n",
    "import spikeinterface.sorters as ss\n",
    "import spikeinterface.comparison as sc\n",
    "import spikeinterface.widgets as sw\n",
    "# Additional imports\n",
    "import os.path as op\n",
    "import neo  # neo for some direct reading to check on # of segments etc\n",
    "import numpy as np\n",
    "import matplotlib.pyplot as plt\n",
    "import os"
   ]
  },
  {
   "cell_type": "code",
   "execution_count": 2,
   "metadata": {},
   "outputs": [
    {
     "name": "stdout",
     "output_type": "stream",
     "text": [
      "NeuralynxIO: data/BiconditionalOdor/M040-2020-04-29-CDOD12\n",
      "nb_block: 1\n",
      "nb_segment:  [5]\n",
      "signal_channels: [CSC10, CSC11, CSC12, CSC13 ... CSC30 CSC31 CSC32 CSC9]\n",
      "unit_channels: [chTT3#13#0, chTT3#14#0, chTT3#8#0, chTT3#24#0 ... chTT8#3#0 chTT8#4#0 chTT8#19#0 chTT8#20#0]\n",
      "event_channels: [Events event_id=11 ttl=0, Events event_id=11 ttl=1, Events event_id=11 ttl=2, Events event_id=11 ttl=4 ... Events event_id=11 ttl=48 Events event_id=11 ttl=64 Events event_id=11 ttl=96 Events event_id=19 ttl=0]\n",
      "\n"
     ]
    }
   ],
   "source": [
    "# sample_file can be any file in the directory which has ALL the ncs files.\n",
    "# sample_file = 'data/BiconditionalOdor/M040-2020-04-28-CDOD11/CSC11.ncs'\n",
    "sample_file = 'data/BiconditionalOdor/M040-2020-04-29-CDOD12/CSC11.ncs'\n",
    "dname = (op.dirname(sample_file))\n",
    "# print(dname)\n",
    "\n",
    "# Throws an error if the the ncs files don't have the same length\n",
    "# On omitting the file with a different length, this works (data/BiconditionalOdor/M040-2020-04-28-CDOD11/CSC26.ncs for instance)\n",
    "# Or use the \"exclude_files\" keyword to explicitly a list of .Ncs files that are not meant for spike sorting or other_reasons\n",
    "# NOTE: Clone and install neo from \"https://github.com/manimoh/python-neo\" for the 'exclude_files' feature to work\n",
    "\n",
    "# reader = neo.NeuralynxIO(dirname=dname, exclude_files = ['CSC26.ncs'])\n",
    "reader = neo.NeuralynxIO(dirname=dname)\n",
    "print(reader)"
   ]
  },
  {
   "cell_type": "markdown",
   "metadata": {},
   "source": [
    "**NOTE:** The following section with the Python gymnastics (or hacks) can be entirely skipped if a probe geometry file is present in the directory, along with all the channel mappings"
   ]
  },
  {
   "cell_type": "code",
   "execution_count": 3,
   "metadata": {},
   "outputs": [],
   "source": [
    "# These are ordered dictionary from which we can extract the CSC/TT to AD channels mapping\n",
    "# Ideally these should be present in the promoted dataset or should be more cleanly extracted \n",
    "# print(reader.nse_ntt_filenames,\"\\n\")\n",
    "# print(reader.ncs_filenames,\"\\n\")"
   ]
  },
  {
   "cell_type": "code",
   "execution_count": 4,
   "metadata": {},
   "outputs": [],
   "source": [
    "# Creating an AD channel to TT file mapping\n",
    "ntt_channel_id_name = {}\n",
    "for key,value in reader.nse_ntt_filenames:\n",
    "    ntt_channel_id_name[value] = key\n",
    "# print(ntt_channel_id_name)"
   ]
  },
  {
   "cell_type": "code",
   "execution_count": 5,
   "metadata": {},
   "outputs": [],
   "source": [
    "# Creating an AD channel to CSC file mapping and CSC to AD channel mapping\n",
    "ncs_channel_name_id = {}\n",
    "ncs_channel_id_name = {}\n",
    "for key,value in reader.ncs_filenames:\n",
    "    ncs_channel_name_id[key] = value\n",
    "    ncs_channel_id_name[value] = key\n",
    "# print(ncs_channel_name_id)\n",
    "# print(ncs_channel_id_name)"
   ]
  },
  {
   "cell_type": "code",
   "execution_count": 6,
   "metadata": {},
   "outputs": [],
   "source": [
    "# Creating TT to CSC mapping, to be used for creating 'channel groups' later\n",
    "ntt_ncs_map = {}\n",
    "for key in ntt_channel_id_name.keys():\n",
    "    if ntt_channel_id_name[key] in ntt_ncs_map:\n",
    "        if key in ncs_channel_id_name:\n",
    "            ntt_ncs_map[ntt_channel_id_name[key]].append(ncs_channel_id_name[key])\n",
    "    else:\n",
    "        ntt_ncs_map[ntt_channel_id_name[key]] = []\n",
    "        if key in ncs_channel_id_name:\n",
    "            ntt_ncs_map[ntt_channel_id_name[key]].append(ncs_channel_id_name[key])\n",
    "# print (ntt_ncs_map)"
   ]
  },
  {
   "cell_type": "code",
   "execution_count": 7,
   "metadata": {},
   "outputs": [],
   "source": [
    "# recordingList = [se.NeuralynxRecordingExtractor(dirname=op.dirname(sample_file), exclude_files = ['CSC26.ncs'], seg_index=i) for i in range(reader.segment_count(0))]\n",
    "recordingList = [se.NeuralynxRecordingExtractor(dirname=op.dirname(sample_file), seg_index=i) for i in range(reader.segment_count(0))]\n",
    "\n",
    "# This concatenates mutiple segments together\n",
    "recordingFull = se.MultiRecordingTimeExtractor(recordingList)"
   ]
  },
  {
   "cell_type": "markdown",
   "metadata": {},
   "source": [
    "<table><tr>\n",
    "<td> <img src=\"ks2_test/A4x2-tet-CM42-channelMap.png\" alt=\"Drawing\"/> </td>\n",
    "<td> <img src=\"ks2_test/A4x2-tet-CM42-probeGeometry.png\" alt=\"Drawing\"/> </td>\n",
    "</tr></table>\n",
    "<table><tr>\n",
    "<td> <img src=\"ks2_test/CM32-NN-to-neuralynx-mapping.JPG\" alt=\"Drawing\"/> </td>\n",
    "</tr></table>"
   ]
  },
  {
   "cell_type": "markdown",
   "metadata": {},
   "source": [
    "## Location generation Code\n",
    "Based on the images above, I generate positions for the various channels"
   ]
  },
  {
   "cell_type": "code",
   "execution_count": 8,
   "metadata": {},
   "outputs": [],
   "source": [
    "# The location_keys refer to the contact ids as referred in the above images\n",
    "location_keys_1 = [6,1,8,3];\n",
    "location_keys_2 = [5,2,7,4];\n",
    "seed1 = np.array([0, 0])\n",
    "seed2 = np.array([0,150])\n",
    "x_offset = np.array([200,0])\n",
    "location_values_1 = [seed1, seed1+([-25/np.sqrt(2),25/np.sqrt(2)]), seed1+np.array([25/np.sqrt(2),25/np.sqrt(2)]), seed1+np.array([0,50/np.sqrt(2)])]\n",
    "location_values_2 = [seed2, seed2+([-25/np.sqrt(2),25/np.sqrt(2)]), seed2+np.array([25/np.sqrt(2),25/np.sqrt(2)]), seed2+np.array([0,50/np.sqrt(2)])]\n",
    "for i in range(3):\n",
    "    location_keys_1.extend([location_keys_1[j]+8*(i+1) for j in range(4)])\n",
    "    location_values_1.extend(location_values_1[j]+x_offset*(i+1) for j in range(4))\n",
    "    location_keys_2.extend([location_keys_2[j]+8*(i+1) for j in range(4)])\n",
    "    location_values_2.extend(location_values_2[j]+x_offset*(i+1) for j in range(4))\n",
    "# print (location_keys_1)\n",
    "# print (location_keys_2)\n",
    "location_name_keys = location_keys_1 + location_keys_2\n",
    "location_values = location_values_1 + location_values_2\n",
    "# print(location_name_keys, location_values)\n",
    "# Create mapping from NeuroNexus contact to their respective coordinates\n",
    "location_dict = {}\n",
    "for i in range(len(location_name_keys)):\n",
    "    location_dict[location_name_keys[i]] = location_values[i]\n",
    "# print(location_dict)"
   ]
  },
  {
   "cell_type": "code",
   "execution_count": 9,
   "metadata": {},
   "outputs": [
    {
     "data": {
      "image/png": "[encoded data removed]",
      "text/plain": [
       "<Figure size 432x288 with 1 Axes>"
      ]
     },
     "metadata": {
      "needs_background": "light"
     },
     "output_type": "display_data"
    }
   ],
   "source": [
    "# Sanity check to see that the relative locations of the various channels match that of the images above\n",
    "xcoords = [pos[0] for pos in location_values]\n",
    "ycoords = [pos[1] for pos in location_values]\n",
    "fig,ax = plt.subplots()\n",
    "ax.axis('off')\n",
    "for i in range(len(xcoords)):\n",
    "    plt.text(xcoords[i]/200,ycoords[i]/200,location_name_keys[i])\n"
   ]
  },
  {
   "cell_type": "code",
   "execution_count": 10,
   "metadata": {},
   "outputs": [],
   "source": [
    "# Creating AD Channel to NN probe contact mapping (Based on Jeff's drawings)\n",
    "channel_id_nnpc = {26:1, 10:3, 29:6, 30:8, 27:2, 28:4, 11:5, 12:7, 13:9, 14:11, 8:14, 24:16, 31:10, 15:12, 9:13, 25:15,\n",
    "                  23:17, 7:19, 1:22, 2:24, 22:18, 6:20, 0:21, 16:23, 17:25, 18:27, 5:30, 21:32, 3:26, 4:28, 19:29, 20:31}\n",
    "# print(channel_id_nnpc)"
   ]
  },
  {
   "cell_type": "code",
   "execution_count": 11,
   "metadata": {},
   "outputs": [],
   "source": [
    "# These channel ids reflect the AD-channels (I don't know if this is specific to Neuralynx Extractor or not, \n",
    "# but I guess not because I extracted the mapping before even calling the Neuralynx extractor). Therefore we use the\n",
    "# mappings obtained earlier to assign locations and groups correctly\n",
    "channel_ids = recordingFull.get_channel_ids()\n",
    "# Set channel locations from the ones generated above\n",
    "channel_locs = np.array([location_dict[channel_id_nnpc[x]] for x in channel_ids])\n",
    "# print (channel_locs)\n",
    "recordingFull.set_channel_locations(channel_locs)"
   ]
  },
  {
   "cell_type": "code",
   "execution_count": 12,
   "metadata": {},
   "outputs": [
    {
     "data": {
      "image/png": "[encoded data removed]",
      "text/plain": [
       "<Figure size 432x288 with 1 Axes>"
      ]
     },
     "metadata": {
      "needs_background": "light"
     },
     "output_type": "display_data"
    }
   ],
   "source": [
    "# Sanity check to see if the correct locations have been assigned\n",
    "xcoords = [pos[0] for pos in channel_locs]\n",
    "ycoords = [pos[1] for pos in channel_locs]\n",
    "fig,ax = plt.subplots()\n",
    "ax.axis('off')\n",
    "for i in range(len(xcoords)):\n",
    "    plt.text(xcoords[i]/200,ycoords[i]/200,ncs_channel_id_name[channel_ids[i]])"
   ]
  },
  {
   "cell_type": "code",
   "execution_count": 13,
   "metadata": {},
   "outputs": [
    {
     "name": "stdout",
     "output_type": "stream",
     "text": [
      "['hdsort', 'herdingspikes', 'ironclust', 'kilosort', 'kilosort2', 'klusta', 'mountainsort4', 'spykingcircus', 'tridesclous', 'waveclus']\n"
     ]
    }
   ],
   "source": [
    "# This should contain kilosort2\n",
    "print (ss.available_sorters())"
   ]
  },
  {
   "cell_type": "code",
   "execution_count": 14,
   "metadata": {},
   "outputs": [
    {
     "name": "stdout",
     "output_type": "stream",
     "text": [
      "{'detect_threshold': 5, 'projection_threshold': [10, 4], 'preclust_threshold': 8, 'car': True, 'minFR': 0.1, 'minfr_goodchannels': 0.1, 'freq_min': 150, 'sigmaMask': 30, 'nPCs': 3, 'ntbuff': 64, 'nfilt_factor': 4, 'NT': None, 'keep_good_only': False}\n"
     ]
    }
   ],
   "source": [
    "# These params should be changed and passed on kwargs if needed\n",
    "ks2_params = ss.Kilosort2Sorter.default_params()\n",
    "print(ks2_params)\n",
    "\n",
    "# Example of changing parameter\n",
    "ks2_params['projection_threshold'] = [20, 15]"
   ]
  },
  {
   "cell_type": "code",
   "execution_count": 15,
   "metadata": {},
   "outputs": [
    {
     "data": {
      "text/plain": [
       "'\\nTo use Kilosort2 run:\\n\\n        >>> git clone https://github.com/MouseLand/Kilosort2\\n    and provide the installation path by setting the KILOSORT2_PATH\\n    environment variables or using Kilosort2Sorter.set_kilosort2_path().\\n\\n\\n\\n    More information on Kilosort2 at:\\n        https://github.com/MouseLand/Kilosort2\\n    '"
      ]
     },
     "execution_count": 15,
     "metadata": {},
     "output_type": "execute_result"
    }
   ],
   "source": [
    "# This displays how to set KS2 path\n",
    "ss.Kilosort2Sorter.installation_mesg"
   ]
  },
  {
   "cell_type": "code",
   "execution_count": 16,
   "metadata": {},
   "outputs": [
    {
     "name": "stdout",
     "output_type": "stream",
     "text": [
      "Setting KILOSORT2_PATH environment variable for subprocess calls to: D:\\AutomaticSpikeSort\\Kilosort2\n"
     ]
    }
   ],
   "source": [
    "# Set the path tothe Kilosort repository\n",
    "ss.Kilosort2Sorter.set_kilosort2_path('D:\\AutomaticSpikeSort\\Kilosort2')"
   ]
  },
  {
   "cell_type": "code",
   "execution_count": 17,
   "metadata": {},
   "outputs": [
    {
     "data": {
      "text/plain": [
       "True"
      ]
     },
     "execution_count": 17,
     "metadata": {},
     "output_type": "execute_result"
    }
   ],
   "source": [
    "# This should return true if the path is set correctly\n",
    "# Kilosort2 won't run if this is False\n",
    "ss.Kilosort2Sorter.is_installed()"
   ]
  },
  {
   "cell_type": "code",
   "execution_count": 18,
   "metadata": {},
   "outputs": [
    {
     "name": "stdout",
     "output_type": "stream",
     "text": [
      "RUNNING SHELL SCRIPT: C:\\Users\\mvdmlab\\ss_ks2_test\\run_kilosort2.bat\n",
      "\n",
      "\n",
      "C:\\Users\\mvdmlab>cd C:\\Users\\mvdmlab\\ss_ks2_test \n",
      "\n",
      "\n",
      "\n",
      "C:\\Users\\mvdmlab\\ss_ks2_test>matlab -nosplash -wait -log -r kilosort2_master \n",
      "\n",
      "Time   0s. Determining good channels.. \n",
      "\n",
      "found 9934 threshold crossings in 214.29 seconds of data \n",
      "\n",
      "found 0 bad channels \n",
      "\n",
      "Time   7s. Computing whitening matrix.. \n",
      "\n",
      "Getting channel whitening matrix... \n",
      "\n",
      "Channel-whitening matrix computed. \n",
      "\n",
      "Time  12s. Loading raw data and applying filters... \n",
      "\n",
      "Time 144s. Finished preprocessing 2815 batches. \n",
      "\n",
      "random seed for clusterSingleBatches: 1\n",
      "\n",
      "Obtained 7 PC waveforms in 1.26 seconds \n",
      "\n",
      "time 0.20, pre clustered 1 / 2815 batches \n",
      "\n",
      "time 22.00, pre clustered 501 / 2815 batches \n",
      "\n",
      "time 43.77, pre clustered 1001 / 2815 batches \n",
      "\n",
      "time 65.80, pre clustered 1501 / 2815 batches \n",
      "\n",
      "time 88.00, pre clustered 2001 / 2815 batches \n",
      "\n",
      "time 110.09, pre clustered 2501 / 2815 batches \n",
      "\n",
      "time 0.10, compared 1 / 2815 batches \n",
      "\n",
      "time 3.57, compared 501 / 2815 batches \n",
      "\n",
      "time 7.06, compared 1001 / 2815 batches \n",
      "\n",
      "time 10.55, compared 1501 / 2815 batches \n",
      "\n",
      "time 14.03, compared 2001 / 2815 batches \n",
      "\n",
      "time 17.53, compared 2501 / 2815 batches \n",
      "\n",
      "time 25.01, Re-ordered 2815 batches. \n",
      "\n",
      "Time  29s. Optimizing templates ...\n",
      "\n",
      "29.87 sec, 1 / 2816 batches, 5 units, nspks: 1.2605, mu: 32.9672, nst0: 4, merges: 0.0000, 0.0000 \n",
      "\n",
      "34.13 sec, 101 / 2816 batches, 12 units, nspks: 18.4783, mu: 27.7379, nst0: 16, merges: 10.6192, 0.0000 \n",
      "\n",
      "37.90 sec, 201 / 2816 batches, 10 units, nspks: 21.9824, mu: 32.0150, nst0: 19, merges: 11.9608, 0.0000 \n",
      "\n",
      "41.62 sec, 301 / 2816 batches, 11 units, nspks: 18.1849, mu: 34.5410, nst0: 10, merges: 12.2031, 0.0000 \n",
      "\n",
      "45.26 sec, 401 / 2816 batches, 9 units, nspks: 18.4491, mu: 31.2175, nst0: 20, merges: 12.1115, 0.0000 \n",
      "\n",
      "48.85 sec, 501 / 2816 batches, 8 units, nspks: 20.2033, mu: 27.7481, nst0: 15, merges: 12.2536, 0.0000 \n",
      "\n",
      "52.47 sec, 601 / 2816 batches, 11 units, nspks: 23.2240, mu: 24.1380, nst0: 42, merges: 12.1168, 0.0000 \n",
      "\n",
      "56.11 sec, 701 / 2816 batches, 10 units, nspks: 19.2343, mu: 32.5170, nst0: 23, merges: 11.7359, 0.0000 \n",
      "\n",
      "59.78 sec, 801 / 2816 batches, 12 units, nspks: 21.5235, mu: 26.3728, nst0: 33, merges: 11.6989, 0.0000 \n",
      "\n",
      "63.40 sec, 901 / 2816 batches, 10 units, nspks: 20.4995, mu: 24.7215, nst0: 12, merges: 12.2464, 0.0000 \n",
      "\n",
      "67.01 sec, 1001 / 2816 batches, 12 units, nspks: 21.6157, mu: 30.4946, nst0: 13, merges: 10.9881, 0.0000 \n",
      "\n",
      "70.73 sec, 1101 / 2816 batches, 11 units, nspks: 21.3026, mu: 31.2310, nst0: 13, merges: 11.6165, 0.0000 \n",
      "\n",
      "74.44 sec, 1201 / 2816 batches, 19 units, nspks: 32.0892, mu: 32.1775, nst0: 41, merges: 11.9519, 0.0000 \n",
      "\n",
      "78.36 sec, 1301 / 2816 batches, 16 units, nspks: 69.6641, mu: 36.6818, nst0: 106, merges: 13.2781, 0.0000 \n",
      "\n",
      "83.09 sec, 1401 / 2816 batches, 15 units, nspks: 425.7274, mu: 32.5492, nst0: 223, merges: 14.7951, 0.0000 \n",
      "\n",
      "87.77 sec, 1501 / 2816 batches, 25 units, nspks: 184.6493, mu: 36.0304, nst0: 118, merges: 13.5048, 0.0000 \n",
      "\n",
      "91.90 sec, 1601 / 2816 batches, 15 units, nspks: 54.9941, mu: 33.6470, nst0: 10, merges: 13.5114, 0.0000 \n",
      "\n",
      "95.74 sec, 1701 / 2816 batches, 14 units, nspks: 27.5507, mu: 30.0606, nst0: 34, merges: 11.8108, 0.0000 \n",
      "\n",
      "99.49 sec, 1801 / 2816 batches, 22 units, nspks: 29.3530, mu: 30.0254, nst0: 28, merges: 10.9224, 0.0000 \n",
      "\n",
      "103.25 sec, 1901 / 2816 batches, 12 units, nspks: 22.6087, mu: 29.6528, nst0: 13, merges: 11.9629, 0.0000 \n",
      "\n",
      "106.93 sec, 2001 / 2816 batches, 9 units, nspks: 21.6361, mu: 32.2446, nst0: 10, merges: 11.9788, 0.0000 \n",
      "\n",
      "110.60 sec, 2101 / 2816 batches, 10 units, nspks: 25.7057, mu: 28.2805, nst0: 38, merges: 11.7386, 0.0000 \n",
      "\n",
      "114.26 sec, 2201 / 2816 batches, 9 units, nspks: 20.9430, mu: 32.3700, nst0: 13, merges: 11.4340, 0.0000 \n",
      "\n",
      "117.84 sec, 2301 / 2816 batches, 10 units, nspks: 20.9861, mu: 23.9384, nst0: 14, merges: 11.7878, 0.0000 \n",
      "\n",
      "121.49 sec, 2401 / 2816 batches, 12 units, nspks: 18.5133, mu: 27.3780, nst0: 16, merges: 10.9737, 0.0000 \n",
      "\n",
      "125.12 sec, 2501 / 2816 batches, 10 units, nspks: 18.2536, mu: 27.9284, nst0: 9, merges: 12.3810, 0.0000 \n",
      "\n",
      "128.79 sec, 2601 / 2816 batches, 11 units, nspks: 19.9721, mu: 24.0359, nst0: 19, merges: 12.5265, 0.0000 \n",
      "\n",
      "132.43 sec, 2701 / 2816 batches, 11 units, nspks: 20.7398, mu: 29.4198, nst0: 15, merges: 12.2994, 0.0000 \n",
      "\n",
      "136.09 sec, 2801 / 2816 batches, 15 units, nspks: 23.2105, mu: 30.7955, nst0: 45, merges: 11.5884, 0.0000 \n",
      "\n",
      "Elapsed time is 136.694193 seconds.\n",
      "\n",
      "Finished learning templates \n",
      "\n",
      "Time 137s. Optimizing templates ...\n",
      "\n",
      "136.91 sec, 1 / 1408 batches, 9 units, nspks: 0.6000, mu: 32.9023, nst0: 17 \n",
      "\n",
      "138.74 sec, 101 / 1408 batches, 9 units, nspks: 20.7113, mu: 32.9394, nst0: 39 \n",
      "\n",
      "140.56 sec, 201 / 1408 batches, 9 units, nspks: 22.9273, mu: 33.2526, nst0: 23 \n",
      "\n",
      "142.39 sec, 301 / 1408 batches, 9 units, nspks: 20.1989, mu: 32.9812, nst0: 20 \n",
      "\n",
      "144.22 sec, 401 / 1408 batches, 9 units, nspks: 19.2396, mu: 33.0163, nst0: 27 \n",
      "\n",
      "146.04 sec, 501 / 1408 batches, 9 units, nspks: 21.1416, mu: 33.6305, nst0: 16 \n",
      "\n",
      "147.87 sec, 601 / 1408 batches, 9 units, nspks: 24.7229, mu: 33.8287, nst0: 59 \n",
      "\n",
      "149.69 sec, 701 / 1408 batches, 9 units, nspks: 23.0108, mu: 34.0885, nst0: 35 \n",
      "\n",
      "151.52 sec, 801 / 1408 batches, 9 units, nspks: 23.8499, mu: 34.1372, nst0: 36 \n",
      "\n",
      "153.35 sec, 901 / 1408 batches, 9 units, nspks: 21.7810, mu: 34.3304, nst0: 25 \n",
      "\n",
      "155.17 sec, 1001 / 1408 batches, 9 units, nspks: 21.9289, mu: 33.6834, nst0: 17 \n",
      "\n",
      "157.01 sec, 1101 / 1408 batches, 9 units, nspks: 22.1249, mu: 33.8606, nst0: 16 \n",
      "\n",
      "158.86 sec, 1201 / 1408 batches, 9 units, nspks: 30.9032, mu: 34.1571, nst0: 46 \n",
      "\n",
      "160.77 sec, 1301 / 1408 batches, 9 units, nspks: 68.0223, mu: 36.0176, nst0: 112 \n",
      "\n",
      "163.30 sec, 1401 / 1408 batches, 9 units, nspks: 417.8528, mu: 34.5422, nst0: 224 \n",
      "\n",
      "Elapsed time is 163.506204 seconds.\n",
      "\n",
      "Time 164s. Optimizing templates ...\n",
      "\n",
      "163.60 sec, 1 / 1407 batches, 9 units, nspks: 1.8500, mu: 32.9023, nst0: 48 \n",
      "\n",
      "165.43 sec, 101 / 1407 batches, 9 units, nspks: 19.1685, mu: 32.4372, nst0: 33 \n",
      "\n",
      "167.26 sec, 201 / 1407 batches, 9 units, nspks: 25.1491, mu: 32.1208, nst0: 87 \n",
      "\n",
      "169.09 sec, 301 / 1407 batches, 9 units, nspks: 21.1728, mu: 31.8608, nst0: 14 \n",
      "\n",
      "170.91 sec, 401 / 1407 batches, 9 units, nspks: 16.7392, mu: 31.2508, nst0: 16 \n",
      "\n",
      "172.73 sec, 501 / 1407 batches, 9 units, nspks: 21.9778, mu: 30.4397, nst0: 13 \n",
      "\n",
      "174.55 sec, 601 / 1407 batches, 9 units, nspks: 17.2233, mu: 30.6175, nst0: 9 \n",
      "\n",
      "176.37 sec, 701 / 1407 batches, 9 units, nspks: 15.4034, mu: 30.3991, nst0: 21 \n",
      "\n",
      "178.19 sec, 801 / 1407 batches, 9 units, nspks: 18.2486, mu: 30.0447, nst0: 30 \n",
      "\n",
      "180.00 sec, 901 / 1407 batches, 9 units, nspks: 16.0233, mu: 29.8719, nst0: 24 \n",
      "\n",
      "181.82 sec, 1001 / 1407 batches, 9 units, nspks: 24.0586, mu: 29.5864, nst0: 22 \n",
      "\n",
      "183.63 sec, 1101 / 1407 batches, 9 units, nspks: 18.3521, mu: 29.4389, nst0: 13 \n",
      "\n",
      "185.46 sec, 1201 / 1407 batches, 9 units, nspks: 19.0541, mu: 29.3794, nst0: 31 \n",
      "\n",
      "187.30 sec, 1301 / 1407 batches, 9 units, nspks: 28.5392, mu: 32.5969, nst0: 100 \n",
      "\n",
      "189.20 sec, 1401 / 1407 batches, 9 units, nspks: 61.1949, mu: 37.1280, nst0: 14 \n",
      "\n",
      "Elapsed time is 189.316296 seconds.\n",
      "\n",
      "Number of spikes before applying cutoff: 111113\n",
      "\n",
      "Finished compressing time-varying templates \n",
      "\n",
      "initialized spike counts\n",
      "\n",
      "Found 1 splits, checked 1/10 clusters, nccg 0 \n",
      "\n",
      "Finished splitting. Found 2 splits, checked 11/11 clusters, nccg 1 \n",
      "\n",
      "Found 0 splits, checked 1/11 clusters, nccg 0 \n",
      "\n",
      "Finished splitting. Found 1 splits, checked 12/12 clusters, nccg 3 \n",
      "\n",
      "found 5 good units \n",
      "\n",
      "Saving results to Phy  \n",
      "\n",
      "kilosort2 run time 472.03s\n"
     ]
    }
   ],
   "source": [
    "# Does not work if the working/output folder is in a different drive/directory, must change the directory outside the function call\n",
    "# SS folks suggest the same, see https://github.com/SpikeInterface/spikesorters/issues/94\n",
    "# KS2 folks suggest that the output/Working directory should reside on an SSD\n",
    "\n",
    "# For now run KS2 on all channels without caring about channel groups. For discussion about details see: https://github.com/SpikeInterface/spikesorters/issues/150\n",
    "cwd = os.getcwd()\n",
    "os.chdir('C:/Users/mvdmlab')# ks2_out0 = ss.run_kilosort2(recordingFull)\n",
    "\n",
    "# This launches a matlab instance using a shell command so the KS2 log is present only on the matlab console, which vanishes after finishing its run or if it runs into an error.\n",
    "# Ideally the shell command needs to be modified so the Maltab console output is logged to somewhere more permanent.\n",
    "# Possible solutions below (Need to explore)\n",
    "# 1) https://www.mathworks.com/matlabcentral/answers/102082-how-do-i-call-matlab-from-the-dos-prompt#answer_419655\n",
    "# 2) https://stackoverflow.com/questions/7714709/writing-log-statements-to-standard-output-with-matlab/41818741#41818741\n",
    "\n",
    "# UPDATE: Opened an issue suggesting the same to SS folks here, https://github.com/SpikeInterface/spikesorters/issues/151\n",
    "\n",
    "ks2_out0 = ss.run_kilosort2(recordingFull, output_folder = 'C:/Users/mvdmlab/ss_ks2_test', **ks2_params, verbose=True)\n",
    "\n",
    "# TODO: Delete the recording.dat file and the temp.wh file since they are needed only for the sorting and not later on for comapring/viewing results and occupy a lot of space\n",
    "\n",
    "# Alternate way of runnng the kilosort. Works!!\n",
    "# ks2_out1 = ss.run_sorters(['kilosort2'],[recordingFull], working_folder='C:/Users/mvdmlab/ss_ks2test')\n",
    "\n",
    "os.chdir(cwd)"
   ]
  },
  {
   "cell_type": "code",
   "execution_count": null,
   "metadata": {},
   "outputs": [],
   "source": [
    "# This runs KS2 separately on each channel group. It creates one folder for each channel group, with the folder names starting\n",
    "# from 0 to the number of groups-1.\n",
    "# This is not recommended by the KS2 folks: https://github.com/MouseLand/Kilosort2/issues/21\n",
    "# Works!!\n",
    "# ks2_out2 = ss.run_kilosort2(recordingFull, output_folder = 'C:/Users/mvdmlab/ss_ks2test_group', grouping_property = 'group')"
   ]
  }
 ],
 "metadata": {
  "kernelspec": {
   "display_name": "Python 3",
   "language": "python",
   "name": "python3"
  },
  "language_info": {
   "codemirror_mode": {
    "name": "ipython",
    "version": 3
   },
   "file_extension": ".py",
   "mimetype": "text/x-python",
   "name": "python",
   "nbconvert_exporter": "python",
   "pygments_lexer": "ipython3",
   "version": "3.8.5"
  }
 },
 "nbformat": 4,
 "nbformat_minor": 4
}
