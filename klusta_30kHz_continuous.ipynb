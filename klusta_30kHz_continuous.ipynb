{
 "cells": [
  {
   "cell_type": "code",
   "execution_count": 1,
   "metadata": {},
   "outputs": [],
   "source": [
    "# Recommended import aliases: https://spikeinterface.readthedocs.io/en/latest/getting_started/plot_getting_started.html\n",
    "import spikeinterface.extractors as se\n",
    "import spikeinterface.toolkit as st\n",
    "import spikeinterface.sorters as ss\n",
    "import spikeinterface.comparison as sc\n",
    "import spikeinterface.widgets as sw\n",
    "# Additional imports\n",
    "import os.path as op\n",
    "import neo  # neo for some direct reading to check on # of segments etc"
   ]
  },
  {
   "cell_type": "code",
   "execution_count": 2,
   "metadata": {},
   "outputs": [
    {
     "name": "stdout",
     "output_type": "stream",
     "text": [
      "D:\\data-formats\\data\\M40-2020-04-28-CDOD11\n"
     ]
    }
   ],
   "source": [
    "sample_file1 = 'D:\\data-formats\\data\\M40-2020-04-28-CDOD11\\CSC1.ncs'\n",
    "dname1 = (op.dirname(sample_file1))\n",
    "print(dname1)"
   ]
  },
  {
   "cell_type": "code",
   "execution_count": 3,
   "metadata": {},
   "outputs": [],
   "source": [
    "#Throws an error if the the ncs files don't have the same length\n",
    "#On omitting the file with a different length, this works (M40-2020-04-28-CDOD11/CSC26.ncs for instance)\n",
    "reader1 = neo.NeuralynxIO(dirname=dname1)"
   ]
  },
  {
   "cell_type": "code",
   "execution_count": 4,
   "metadata": {},
   "outputs": [
    {
     "name": "stdout",
     "output_type": "stream",
     "text": [
      "NeuralynxIO: D:\\data-formats\\data\\M40-2020-04-28-CDOD11\n",
      "nb_block: 1\n",
      "nb_segment:  [7]\n",
      "signal_channels: [CSC1, CSC10, CSC11, CSC13 ... CSC5 CSC7 CSC8 CSC9]\n",
      "unit_channels: []\n",
      "event_channels: []\n",
      "\n",
      "range(0, 7)\n",
      "1\n"
     ]
    }
   ],
   "source": [
    "print(reader1)\n",
    "print(range(reader1.segment_count(0)))\n",
    "print(reader1.block_count())\n"
   ]
  },
  {
   "cell_type": "code",
   "execution_count": 11,
   "metadata": {},
   "outputs": [
    {
     "name": "stdout",
     "output_type": "stream",
     "text": [
      "['__class__', '__delattr__', '__dict__', '__dir__', '__doc__', '__eq__', '__format__', '__ge__', '__getattribute__', '__gt__', '__hash__', '__init__', '__init_subclass__', '__le__', '__lt__', '__module__', '__ne__', '__new__', '__reduce__', '__reduce_ex__', '__repr__', '__setattr__', '__sizeof__', '__str__', '__subclasshook__', '__weakref__', '_cache', '_check_common_characteristics', '_empty_ncs', '_empty_nse_ntt', '_event_count', '_generate_minimal_annotations', '_get_analogsignal_chunk', '_get_channel_indexes', '_get_event_timestamps', '_get_signal_size', '_get_signal_t_start', '_get_spike_raw_waveforms', '_get_spike_timestamps', '_group_signal_channel_characteristics', '_make_signal_channel_subgroups', '_nb_segment', '_nev_memmap', '_parse_header', '_prefered_signal_group_mode', '_prefered_units_group_mode', '_raw_annotate', '_repr_annotations', '_rescale_epoch_duration', '_rescale_event_timestamp', '_rescale_spike_timestamp', '_seg_t_starts', '_seg_t_stops', '_segment_t_start', '_segment_t_stop', '_several_channel_groups', '_sigs_length', '_sigs_memmap', '_sigs_sampling_rate', '_sigs_t_start', '_sigs_t_stop', '_source_name', '_spike_count', '_spike_memmap', '_timestamp_limits', 'add_in_cache', 'block_count', 'channel_id_to_index', 'channel_name_to_index', 'description', 'dirname', 'dump_cache', 'event_channels_count', 'event_count', 'extensions', 'extentions', 'filename', 'get_analogsignal_chunk', 'get_event_timestamps', 'get_group_channel_indexes', 'get_signal_sampling_rate', 'get_signal_size', 'get_signal_t_start', 'get_spike_raw_waveforms', 'get_spike_timestamps', 'global_t_start', 'global_t_stop', 'header', 'internal_event_ids', 'internal_unit_ids', 'is_readable', 'is_writable', 'logger', 'mode', 'name', 'ncs_filenames', 'nev_filenames', 'nse_ntt_filenames', 'parse_header', 'print_annotations', 'raw_annotations', 'rawmode', 'read', 'read_analogsignal', 'read_block', 'read_channelindex', 'read_circularregionofinterest', 'read_epoch', 'read_event', 'read_imagesequence', 'read_irregularlysampledsignal', 'read_ncs_files', 'read_params', 'read_polygonregionofinterest', 'read_rectangularregionofinterest', 'read_segment', 'read_spiketrain', 'read_unit', 'readable_objects', 'rescale_epoch_duration', 'rescale_event_timestamp', 'rescale_signal_raw_to_float', 'rescale_spike_timestamp', 'rescale_waveforms_to_float', 'segment_count', 'segment_t_start', 'segment_t_stop', 'setup_cache', 'signal_channels_count', 'source_name', 'spike_count', 'support_lazy', 'supported_objects', 'unit_channels_count', 'use_cache', 'write', 'write_analogsignal', 'write_block', 'write_channelindex', 'write_circularregionofinterest', 'write_epoch', 'write_event', 'write_imagesequence', 'write_irregularlysampledsignal', 'write_params', 'write_polygonregionofinterest', 'write_rectangularregionofinterest', 'write_segment', 'write_spiketrain', 'write_unit', 'writeable_objects']\n"
     ]
    }
   ],
   "source": [
    "print(dir(reader1))"
   ]
  },
  {
   "cell_type": "code",
   "execution_count": 106,
   "metadata": {},
   "outputs": [],
   "source": [
    "channel_id_name = {}\n",
    "for key,value in reader1.ncs_filenames:\n",
    "    channel_id_name[value] = key"
   ]
  },
  {
   "cell_type": "code",
   "execution_count": 107,
   "metadata": {},
   "outputs": [
    {
     "name": "stdout",
     "output_type": "stream",
     "text": [
      "{26: 'CSC1', 31: 'CSC10', 14: 'CSC11', 9: 'CSC13', 8: 'CSC14', 25: 'CSC15', 24: 'CSC16', 23: 'CSC17', 27: 'CSC2', 6: 'CSC20', 0: 'CSC21', 1: 'CSC22', 10: 'CSC3', 28: 'CSC4', 11: 'CSC5', 12: 'CSC7', 30: 'CSC8', 13: 'CSC9'}\n"
     ]
    }
   ],
   "source": [
    "print(channel_id_name)"
   ]
  },
  {
   "cell_type": "code",
   "execution_count": 5,
   "metadata": {},
   "outputs": [],
   "source": [
    "recordingList = [se.NeuralynxRecordingExtractor(dirname=op.dirname(sample_file1), seg_index=i) for i in range(reader1.segment_count(0))]\n",
    "recordingFull = se.MultiRecordingTimeExtractor(recordingList)"
   ]
  },
  {
   "cell_type": "code",
   "execution_count": 115,
   "metadata": {},
   "outputs": [
    {
     "data": {
      "text/plain": [
       "['group', 'group']"
      ]
     },
     "execution_count": 115,
     "metadata": {},
     "output_type": "execute_result"
    }
   ],
   "source": [
    "recordingFull.get_channel_property_names(26)"
   ]
  },
  {
   "cell_type": "code",
   "execution_count": 20,
   "metadata": {},
   "outputs": [
    {
     "name": "stdout",
     "output_type": "stream",
     "text": [
      "['NeoRawIOClass', '__abstractmethods__', '__class__', '__del__', '__delattr__', '__dict__', '__dir__', '__doc__', '__eq__', '__format__', '__ge__', '__getattribute__', '__gt__', '__hash__', '__init__', '__init_subclass__', '__le__', '__lt__', '__module__', '__ne__', '__new__', '__reduce__', '__reduce_ex__', '__repr__', '__setattr__', '__sizeof__', '__slots__', '__str__', '__subclasshook__', '__weakref__', '_abc_impl', '_cast_start_end_frame', '_default_filename', '_epochs', '_features', '_get_file_path', '_key_properties', '_kwargs', '_properties', '_tmp_folder', 'add_epoch', 'additional_gain', 'allocate_array', 'block_index', 'check_if_dumpable', 'clear_channel_property', 'clear_channels_property', 'copy_channel_properties', 'dump_to_dict', 'dump_to_json', 'dump_to_pickle', 'extractor_name', 'frame_to_time', 'get_channel_gains', 'get_channel_groups', 'get_channel_ids', 'get_channel_locations', 'get_channel_property', 'get_channel_property_names', 'get_dtype', 'get_epoch', 'get_epoch_info', 'get_epoch_names', 'get_num_channels', 'get_num_frames', 'get_sampling_frequency', 'get_shared_channel_property_names', 'get_snippets', 'get_sub_extractors_by_property', 'get_tmp_folder', 'get_traces', 'id', 'installed', 'is_dumpable', 'is_filtered', 'is_writable', 'load_extractor_from_dict', 'load_extractor_from_json', 'load_extractor_from_pickle', 'load_probe_file', 'make_serialized_dict', 'mode', 'neo_reader', 'remove_epoch', 'save_to_probe_file', 'seg_index', 'set_channel_gains', 'set_channel_groups', 'set_channel_locations', 'set_channel_property', 'set_tmp_folder', 'time_to_frame', 'write_recording', 'write_to_binary_dat_format']\n"
     ]
    }
   ],
   "source": [
    "print(dir(recordingList[0]))"
   ]
  },
  {
   "cell_type": "code",
   "execution_count": 35,
   "metadata": {},
   "outputs": [
    {
     "name": "stdout",
     "output_type": "stream",
     "text": [
      "['NeoRawIOClass', 'additional_gain', 'block_index', 'extractor_name', 'installed', 'is_writable', 'mode', 'neo_reader', 'seg_index']\n",
      "['_channel_ids', '_find_section_for_frame', '_find_section_for_time', '_first_recording', '_num_channels', '_num_frames', '_recordings', '_sampling_frequency', '_start_frames', '_start_times', 'recordings']\n"
     ]
    }
   ],
   "source": [
    "l1 = dir(recordingList[0])\n",
    "l2 = dir(recordingFull)\n",
    "uq1 = [x for x in l1 if not x in l2]\n",
    "uq2 = [x for x in l2 if not x in l1]\n",
    "print(uq1)\n",
    "print(uq2)"
   ]
  },
  {
   "cell_type": "code",
   "execution_count": 28,
   "metadata": {},
   "outputs": [
    {
     "name": "stdout",
     "output_type": "stream",
     "text": [
      "['hdsort', 'herdingspikes', 'ironclust', 'kilosort', 'kilosort2', 'klusta', 'mountainsort4', 'spykingcircus', 'tridesclous', 'waveclus']\n"
     ]
    }
   ],
   "source": [
    "print (ss.available_sorters())"
   ]
  },
  {
   "cell_type": "code",
   "execution_count": 48,
   "metadata": {},
   "outputs": [
    {
     "ename": "TypeError",
     "evalue": "load_probe_file() missing 1 required positional argument: 'probe_file'",
     "output_type": "error",
     "traceback": [
      "\u001b[1;31m---------------------------------------------------------------------------\u001b[0m",
      "\u001b[1;31mTypeError\u001b[0m                                 Traceback (most recent call last)",
      "\u001b[1;32m<ipython-input-48-af478870ad6a>\u001b[0m in \u001b[0;36m<module>\u001b[1;34m\u001b[0m\n\u001b[1;32m----> 1\u001b[1;33m \u001b[0mrecordingFull\u001b[0m\u001b[1;33m.\u001b[0m\u001b[0mload_probe_file\u001b[0m\u001b[1;33m(\u001b[0m\u001b[1;33m)\u001b[0m\u001b[1;33m\u001b[0m\u001b[1;33m\u001b[0m\u001b[0m\n\u001b[0m",
      "\u001b[1;31mTypeError\u001b[0m: load_probe_file() missing 1 required positional argument: 'probe_file'"
     ]
    }
   ],
   "source": [
    "recordingFul"
   ]
  },
  {
   "cell_type": "code",
   "execution_count": 7,
   "metadata": {},
   "outputs": [
    {
     "name": "stdout",
     "output_type": "stream",
     "text": [
      "['SortingExtractor_Class', '__annotations__', '__class__', '__delattr__', '__dict__', '__dir__', '__doc__', '__eq__', '__format__', '__ge__', '__getattribute__', '__gt__', '__hash__', '__init__', '__init_subclass__', '__le__', '__lt__', '__module__', '__ne__', '__new__', '__reduce__', '__reduce_ex__', '__repr__', '__setattr__', '__sizeof__', '__str__', '__subclasshook__', '__weakref__', '_default_params', '_dump_params', '_run', '_setup_recording', 'default_params', 'get_result', 'get_result_from_folder', 'get_result_list', 'get_sorter_version', 'installation_mesg', 'installed', 'kilosort2_path', 'requires_locations', 'run', 'set_kilosort2_path', 'set_params', 'sorter_name']\n"
     ]
    }
   ],
   "source": [
    "ks2_params = ss.Kilosort2Sorter.default_params()\n",
    "\n",
    "print(dir(ss.Kilosort2Sorter))"
   ]
  },
  {
   "cell_type": "code",
   "execution_count": 8,
   "metadata": {},
   "outputs": [
    {
     "data": {
      "text/plain": [
       "'\\nTo use Kilosort2 run:\\n\\n        >>> git clone https://github.com/MouseLand/Kilosort2\\n    and provide the installation path by setting the KILOSORT2_PATH\\n    environment variables or using Kilosort2Sorter.set_kilosort2_path().\\n\\n\\n\\n    More information on Kilosort2 at:\\n        https://github.com/MouseLand/Kilosort2\\n    '"
      ]
     },
     "execution_count": 8,
     "metadata": {},
     "output_type": "execute_result"
    }
   ],
   "source": [
    "ss.Kilosort2Sorter.installation_mesg"
   ]
  },
  {
   "cell_type": "code",
   "execution_count": 9,
   "metadata": {},
   "outputs": [
    {
     "name": "stdout",
     "output_type": "stream",
     "text": [
      "Setting KILOSORT2_PATH environment variable for subprocess calls to: D:\\AutomaticSpikeSort\\Kilosort2\n"
     ]
    }
   ],
   "source": [
    "ss.Kilosort2Sorter.set_kilosort2_path('D:\\AutomaticSpikeSort\\Kilosort2')"
   ]
  },
  {
   "cell_type": "code",
   "execution_count": 10,
   "metadata": {},
   "outputs": [
    {
     "data": {
      "text/plain": [
       "True"
      ]
     },
     "execution_count": 10,
     "metadata": {},
     "output_type": "execute_result"
    }
   ],
   "source": [
    "ss.Kilosort2Sorter.installed"
   ]
  },
  {
   "cell_type": "code",
   "execution_count": 32,
   "metadata": {},
   "outputs": [
    {
     "data": {
      "text/plain": [
       "False"
      ]
     },
     "execution_count": 32,
     "metadata": {},
     "output_type": "execute_result"
    }
   ],
   "source": [
    "ss.Kilosort2Sorter.requires_locations"
   ]
  },
  {
   "cell_type": "code",
   "execution_count": 33,
   "metadata": {},
   "outputs": [
    {
     "data": {
      "text/plain": [
       "{'detect_threshold': 5,\n",
       " 'projection_threshold': [10, 4],\n",
       " 'preclust_threshold': 8,\n",
       " 'car': True,\n",
       " 'minFR': 0.1,\n",
       " 'minfr_goodchannels': 0.1,\n",
       " 'freq_min': 150,\n",
       " 'sigmaMask': 30,\n",
       " 'nPCs': 3,\n",
       " 'ntbuff': 64,\n",
       " 'nfilt_factor': 4,\n",
       " 'NT': None,\n",
       " 'keep_good_only': False}"
      ]
     },
     "execution_count": 33,
     "metadata": {},
     "output_type": "execute_result"
    }
   ],
   "source": [
    "ss.Kilosort2Sorter.default_params()"
   ]
  },
  {
   "cell_type": "code",
   "execution_count": 45,
   "metadata": {},
   "outputs": [],
   "source": [
    "trial_params = {'detect_threshold': 5,\n",
    " 'projection_threshold': [10, 4],\n",
    " 'preclust_threshold': 8,\n",
    " 'car': True,\n",
    " 'minFR': 0.1,\n",
    " 'minfr_goodchannels': 0,\n",
    " 'freq_min': 150,\n",
    " 'sigmaMask': 30,\n",
    " 'nPCs': 3,\n",
    " 'ntbuff': 64,\n",
    " 'nfilt_factor': 4,\n",
    " 'NT': None,\n",
    " 'keep_good_only': False}\n"
   ]
  },
  {
   "cell_type": "code",
   "execution_count": 49,
   "metadata": {},
   "outputs": [
    {
     "ename": "TypeError",
     "evalue": "run_sorter() missing 1 required positional argument: 'recording'",
     "output_type": "error",
     "traceback": [
      "\u001b[1;31m---------------------------------------------------------------------------\u001b[0m",
      "\u001b[1;31mTypeError\u001b[0m                                 Traceback (most recent call last)",
      "\u001b[1;32m<ipython-input-49-3d9f25f91478>\u001b[0m in \u001b[0;36m<module>\u001b[1;34m\u001b[0m\n\u001b[1;32m----> 1\u001b[1;33m \u001b[0mss\u001b[0m\u001b[1;33m.\u001b[0m\u001b[0mrun_kilosort2\u001b[0m\u001b[1;33m(\u001b[0m\u001b[1;33m)\u001b[0m\u001b[1;33m\u001b[0m\u001b[1;33m\u001b[0m\u001b[0m\n\u001b[0m",
      "\u001b[1;32mc:\\users\\mvdmlab\\miniconda3\\lib\\site-packages\\spikesorters\\sorterlist.py\u001b[0m in \u001b[0;36mrun_kilosort2\u001b[1;34m(*args, **kwargs)\u001b[0m\n\u001b[0;32m    360\u001b[0m         \u001b[0mThe\u001b[0m \u001b[0mspike\u001b[0m \u001b[0msorted\u001b[0m \u001b[0mdata\u001b[0m\u001b[1;33m\u001b[0m\u001b[1;33m\u001b[0m\u001b[0m\n\u001b[0;32m    361\u001b[0m     \"\"\"\n\u001b[1;32m--> 362\u001b[1;33m     \u001b[1;32mreturn\u001b[0m \u001b[0mrun_sorter\u001b[0m\u001b[1;33m(\u001b[0m\u001b[1;34m'kilosort2'\u001b[0m\u001b[1;33m,\u001b[0m \u001b[1;33m*\u001b[0m\u001b[0margs\u001b[0m\u001b[1;33m,\u001b[0m \u001b[1;33m**\u001b[0m\u001b[0mkwargs\u001b[0m\u001b[1;33m)\u001b[0m\u001b[1;33m\u001b[0m\u001b[1;33m\u001b[0m\u001b[0m\n\u001b[0m\u001b[0;32m    363\u001b[0m \u001b[1;33m\u001b[0m\u001b[0m\n\u001b[0;32m    364\u001b[0m \u001b[1;33m\u001b[0m\u001b[0m\n",
      "\u001b[1;31mTypeError\u001b[0m: run_sorter() missing 1 required positional argument: 'recording'"
     ]
    }
   ],
   "source": [
    "ss.run_kilosort2(recordingFull,)\n"
   ]
  },
  {
   "cell_type": "code",
   "execution_count": 42,
   "metadata": {},
   "outputs": [
    {
     "name": "stdout",
     "output_type": "stream",
     "text": [
      "['__add__', '__contains__', '__delitem__', '__getitem__', '__iadd__', '__imul__', '__iter__', '__len__', '__mul__', '__reversed__', '__rmul__', '__setitem__', 'append', 'clear', 'copy', 'count', 'extend', 'index', 'insert', 'pop', 'remove', 'reverse', 'sort']\n",
      "['__abstractmethods__', '__del__', '__dict__', '__module__', '__slots__', '__weakref__', '_abc_impl', '_cast_start_end_frame', '_channel_ids', '_default_filename', '_epochs', '_features', '_find_section_for_frame', '_find_section_for_time', '_first_recording', '_get_file_path', '_key_properties', '_kwargs', '_num_channels', '_num_frames', '_properties', '_recordings', '_sampling_frequency', '_start_frames', '_start_times', '_tmp_folder', 'add_epoch', 'allocate_array', 'check_if_dumpable', 'clear_channel_property', 'clear_channels_property', 'copy_channel_properties', 'dump_to_dict', 'dump_to_json', 'dump_to_pickle', 'frame_to_time', 'get_channel_gains', 'get_channel_groups', 'get_channel_ids', 'get_channel_locations', 'get_channel_property', 'get_channel_property_names', 'get_dtype', 'get_epoch', 'get_epoch_info', 'get_epoch_names', 'get_num_channels', 'get_num_frames', 'get_sampling_frequency', 'get_shared_channel_property_names', 'get_snippets', 'get_sub_extractors_by_property', 'get_tmp_folder', 'get_traces', 'id', 'is_dumpable', 'is_filtered', 'load_extractor_from_dict', 'load_extractor_from_json', 'load_extractor_from_pickle', 'load_probe_file', 'make_serialized_dict', 'recordings', 'remove_epoch', 'save_to_probe_file', 'set_channel_gains', 'set_channel_groups', 'set_channel_locations', 'set_channel_property', 'set_tmp_folder', 'time_to_frame', 'write_recording', 'write_to_binary_dat_format']\n"
     ]
    }
   ],
   "source": [
    "l3 = dir(recordingList)\n",
    "l4 = dir(recordingFull)\n",
    "unique3 = [x for x in l3 if not (x in l4)]\n",
    "unique4 = [x for x in l4 if not (x in l3)]\n",
    "print(unique3)\n",
    "print(unique4)"
   ]
  },
  {
   "cell_type": "code",
   "execution_count": null,
   "metadata": {},
   "outputs": [],
   "source": []
  },
  {
   "cell_type": "code",
   "execution_count": null,
   "metadata": {},
   "outputs": [],
   "source": []
  },
  {
   "cell_type": "code",
   "execution_count": 9,
   "metadata": {},
   "outputs": [
    {
     "name": "stdout",
     "output_type": "stream",
     "text": [
      "Default parameters\n",
      " {'adjacency_radius': None, 'threshold_strong_std_factor': 5, 'threshold_weak_std_factor': 2, 'detect_sign': -1, 'extract_s_before': 16, 'extract_s_after': 32, 'n_features_per_channel': 3, 'pca_n_waveforms_max': 10000, 'num_starting_clusters': 50}\n",
      "New parameters\n",
      " {'adjacency_radius': None, 'threshold_strong_std_factor': 5, 'threshold_weak_std_factor': 2, 'detect_sign': -1, 'extract_s_before': 8, 'extract_s_after': 24, 'n_features_per_channel': 8, 'pca_n_waveforms_max': 10000, 'num_starting_clusters': 50}\n"
     ]
    }
   ],
   "source": [
    "# Setting up parameters for Klusta\n",
    "neuralynx_prms = ss.get_default_params('klusta')\n",
    "print(\"Default parameters\\n\", neuralynx_prms)\n",
    "# Change parameters to match ntt format\n",
    "# @Matt, Can you take a look at this and see if it makes sense?\n",
    "neuralynx_prms['extract_s_before'] = 8\n",
    "neuralynx_prms['extract_s_after'] = 24\n",
    "neuralynx_prms['num_starting_clusters'] = 50\n",
    "neuralynx_prms['n_features_per_channel'] = 8\n",
    "print(\"New parameters\\n\", neuralynx_prms)"
   ]
  },
  {
   "cell_type": "code",
   "execution_count": null,
   "metadata": {},
   "outputs": [],
   "source": [
    "#Run it separately for each segment\n",
    "klustaOutList = [ss.run_klusta(recordingList[i], output_folder=\"klusta_test2/seg\" + str(i), **neuralynx_prms) for i in range(len(recordingList))]\n",
    "#Works and doesn't throw an error.\n",
    "#Will run it to completion later for comparison with Kilosort and other spike sorting methods"
   ]
  },
  {
   "cell_type": "code",
   "execution_count": null,
   "metadata": {},
   "outputs": [
    {
     "name": "stdout",
     "output_type": "stream",
     "text": [
      "WARNING! No channel location given. Add dummy location.\n",
      "Skipping field: only int or float can be serialized\n",
      "Skipping field: only int or float can be serialized\n",
      "RUNNING SHELL SCRIPT: /Users/manishm/Work/vanDerMeerLab/NWB/hackathon/Github/data-formats/kilosort2_test/Attempt2/klusta_test/run_klusta.sh\n"
     ]
    }
   ],
   "source": [
    "#Run it on the concatenated segment\n",
    "klustaOutFull = ss.run_klusta(recordingFull, output_folder=\"klusta_test2/full\", **neuralynx_prms)\n",
    "#Works and doesn't throw an error.\n",
    "#Will run it to completion later for comparison with Kilosort and other spike sorting methods"
   ]
  }
 ],
 "metadata": {
  "kernelspec": {
   "display_name": "Python 3",
   "language": "python",
   "name": "python3"
  },
  "language_info": {
   "codemirror_mode": {
    "name": "ipython",
    "version": 3
   },
   "file_extension": ".py",
   "mimetype": "text/x-python",
   "name": "python",
   "nbconvert_exporter": "python",
   "pygments_lexer": "ipython3",
   "version": "3.7.6"
  }
 },
 "nbformat": 4,
 "nbformat_minor": 4
}
