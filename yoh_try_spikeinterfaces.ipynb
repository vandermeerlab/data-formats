{
 "cells": [
  {
   "cell_type": "markdown",
   "metadata": {},
   "source": [
    "## Ultimate goal:\n",
    "\n",
    "1. Use spikeinterfaces tools to load data (in neuralynx) and run spike sorting\n",
    "2. After conversion to nwb - run spike sorting on that data\n",
    "\n",
    "## Status update:\n",
    "\n",
    "so far not that much progress -- besides complaining to spikeinterfaces ppl."
   ]
  },
  {
   "cell_type": "code",
   "execution_count": 6,
   "metadata": {},
   "outputs": [],
   "source": [
    "import spikeextractors as se\n",
    "import os.path as op"
   ]
  },
  {
   "cell_type": "code",
   "execution_count": 7,
   "metadata": {},
   "outputs": [
    {
     "data": {
      "text/plain": [
       "[spikeextractors.extractors.mdaextractors.mdaextractors.MdaRecordingExtractor,\n",
       " spikeextractors.extractors.bindatrecordingextractor.bindatrecordingextractor.BinDatRecordingExtractor,\n",
       " spikeextractors.extractors.kilosortextractors.kilosortextractors.KiloSortRecordingExtractor,\n",
       " spikeextractors.extractors.spykingcircusextractors.spykingcircusextractors.SpykingCircusRecordingExtractor,\n",
       " spikeextractors.extractors.spikeglxrecordingextractor.spikeglxrecordingextractor.SpikeGLXRecordingExtractor,\n",
       " spikeextractors.extractors.phyextractors.phyextractors.PhyRecordingExtractor,\n",
       " spikeextractors.extractors.neoextractors.plexonextractor.PlexonRecordingExtractor,\n",
       " spikeextractors.extractors.neoextractors.neuralynxextractor.NeuralynxRecordingExtractor]"
      ]
     },
     "execution_count": 7,
     "metadata": {},
     "output_type": "execute_result"
    }
   ],
   "source": [
    "se.installed_recording_extractor_list"
   ]
  },
  {
   "cell_type": "code",
   "execution_count": 8,
   "metadata": {},
   "outputs": [],
   "source": [
    "# get a sample file, available via DataLad or you could download manually by \n",
    "# visiting http://datasets.datalad.org/?dir=/labs/mvdm/MotivationalT-v2/R050/R050-2014-03-31_raw\n",
    "#import datalad.api as dl\n",
    "#ds = dl.install(\"///labs/mvdm/MotivationalT-v2\")\n",
    "#sample_file = ds.get('R050/R050-2014-03-31_raw/R050-2014-03-31-TT04.ntt')\n",
    "sample_file = 'MotivationalT-v2/R050/R050-2014-03-31_raw/R050-2014-03-31-TT04.ntt'"
   ]
  },
  {
   "cell_type": "code",
   "execution_count": 14,
   "metadata": {},
   "outputs": [
    {
     "ename": "TypeError",
     "evalue": "__init__() takes 1 positional argument but 2 were given",
     "output_type": "error",
     "traceback": [
      "\u001b[1;31m---------------------------------------------------------------------------\u001b[0m",
      "\u001b[1;31mTypeError\u001b[0m                                 Traceback (most recent call last)",
      "\u001b[1;32m<ipython-input-14-55f74e04fcc4>\u001b[0m in \u001b[0;36m<module>\u001b[1;34m\u001b[0m\n\u001b[1;32m----> 1\u001b[1;33m \u001b[0mextractor\u001b[0m \u001b[1;33m=\u001b[0m \u001b[0mse\u001b[0m\u001b[1;33m.\u001b[0m\u001b[0mNeuralynxRecordingExtractor\u001b[0m\u001b[1;33m(\u001b[0m\u001b[0mop\u001b[0m\u001b[1;33m.\u001b[0m\u001b[0mdirname\u001b[0m\u001b[1;33m(\u001b[0m\u001b[0msample_file\u001b[0m\u001b[1;33m)\u001b[0m\u001b[1;33m)\u001b[0m\u001b[1;33m\u001b[0m\u001b[1;33m\u001b[0m\u001b[0m\n\u001b[0m",
      "\u001b[1;31mTypeError\u001b[0m: __init__() takes 1 positional argument but 2 were given"
     ]
    }
   ],
   "source": [
    "extractor = se.NeuralynxRecordingExtractor(op.dirname(sample_file))"
   ]
  },
  {
   "cell_type": "code",
   "execution_count": 15,
   "metadata": {},
   "outputs": [],
   "source": [
    "# filed issue https://github.com/SpikeInterface/spikeextractors/issues/364 and pull request \n",
    "# https://github.com/SpikeInterface/spikeextractors/pull/363 to mitigate intermediate "
   ]
  },
  {
   "cell_type": "code",
   "execution_count": null,
   "metadata": {},
   "outputs": [],
   "source": []
  }
 ],
 "metadata": {
  "kernelspec": {
   "display_name": "Python (default available)",
   "language": "python",
   "name": "default-python"
  },
  "language_info": {
   "codemirror_mode": {
    "name": "ipython",
    "version": 3
   },
   "file_extension": ".py",
   "mimetype": "text/x-python",
   "name": "python",
   "nbconvert_exporter": "python",
   "pygments_lexer": "ipython3",
   "version": "3.7.6"
  }
 },
 "nbformat": 4,
 "nbformat_minor": 4
}
