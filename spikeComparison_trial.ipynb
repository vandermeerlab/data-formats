{
 "cells": [
  {
   "cell_type": "code",
   "execution_count": 1,
   "metadata": {},
   "outputs": [],
   "source": [
    "# Recommended import aliases: https://spikeinterface.readthedocs.io/en/latest/getting_started/plot_getting_started.html\n",
    "import spikeinterface.extractors as se\n",
    "import spikeinterface.toolkit as st\n",
    "import spikeinterface.sorters as ss\n",
    "import spikeinterface.comparison as sc\n",
    "import spikeinterface.widgets as sw\n",
    "# Additional imports\n",
    "import os.path as op\n",
    "import neo  # neo for some direct reading to check on # of segments etc\n",
    "import numpy as np\n",
    "import matplotlib.pyplot as plt\n",
    "import os\n",
    "import nept"
   ]
  },
  {
   "cell_type": "code",
   "execution_count": 2,
   "metadata": {},
   "outputs": [],
   "source": [
    "#Get manual clustering results using Hung-tu's code\n",
    "from loader_mclust import load_spikes\n",
    "file_path = 'data/BiconditionalOdor/M040-2020-04-29-CDOD12/'\n",
    "units = load_spikes(file_path)\n",
    "sampling_frequency = 30000\n",
    "\n",
    "# Let's concatenate all the units with unique per each unit labels\n",
    "# into numpy arrays and pass it all to NumpySortingExtractor\n",
    "all_times = []\n",
    "all_labels = []\n",
    "units_map = []\n",
    "for u_index, u in enumerate(units):\n",
    "    all_times += [u.time]\n",
    "    all_labels += [u_index] * len(u.time)\n",
    "    units_map.append(u.label)\n",
    "all_times = np.hstack(all_times)\n",
    "all_labels = np.hstack(all_labels)\n",
    "assert all_times.ndim == 1\n",
    "assert all_times.shape == all_labels.shape\n",
    "\n",
    "# Convert spike times to spike indices\n",
    "lfp = nept.load_lfp('data/BiconditionalOdor/M040-2020-04-29-CDOD12/CSC11.ncs')\n",
    "\n",
    "# Method 1\n",
    "reader = neo.NeuralynxIO(dirname='data/BiconditionalOdor/M040-2020-04-29-CDOD12')\n",
    "recordingList = [se.NeuralynxRecordingExtractor(dirname='data/BiconditionalOdor/M040-2020-04-29-CDOD12', seg_index=i) for i in range(reader.segment_count(0))]\n",
    "# This concatenates mutiple segments together\n",
    "recordingFull = se.MultiRecordingTimeExtractor(recordingList)\n",
    "all_times_1 = np.array([np.round(recordingFull.time_to_frame(x)) for x in all_times-lfp.time[0]], dtype=np.int64)\n",
    "\n",
    "# # Method 2\n",
    "# all_times_2 = np.searchsorted(lfp.time, all_times)\n",
    "\n",
    "# print(np.where(all_times_1 != all_times_2)[0].size)\n",
    "\n",
    "mclust_res = se.NumpySortingExtractor()\n",
    "mclust_res.set_times_labels(times=all_times_1, labels=all_labels )\n",
    "mclust_res.set_sampling_frequency(sampling_frequency=sampling_frequency)"
   ]
  },
  {
   "cell_type": "code",
   "execution_count": 3,
   "metadata": {},
   "outputs": [],
   "source": [
    "# Getting all the results directory\n",
    "results_top_dir = 'data/Kilosort2_results/M040-2020-04-29-CDOD12/'\n",
    "subdirs = [os.path.join(results_top_dir, dirname) for dirname in os.listdir(results_top_dir) if os.path.isdir(os.path.join(results_top_dir,dirname))]"
   ]
  },
  {
   "cell_type": "code",
   "execution_count": 4,
   "metadata": {},
   "outputs": [],
   "source": [
    "# Looping through results to see if at least one unit matches\n",
    "first_pass_candidates = {}\n",
    "funny_business = {}\n",
    "max_agreement_scores = {}\n",
    "\n",
    "for dirname in subdirs:\n",
    "    # Using PhySortingExtractor because Kilosort2 results are exported in the Phy format\n",
    "    this_key = \"_\".join(dirname.split(\"_\")[-2:])\n",
    "    this_ksr = se.PhySortingExtractor(folder_path=dirname)\n",
    "    this_com = sc.compare_two_sorters(sorting1=this_ksr, sorting2=mclust_res)\n",
    "    #Saving this to see what kind of values pop out\n",
    "    max_agreement_scores[this_key] = this_com.agreement_scores.max()\n",
    "    # Check if even 1 unit matches, if it does add the comparsion and the sorting to the first_pass_candidates dictionary\n",
    "    this_ks_map = this_com.get_mapped_sorting1()\n",
    "    matches = [x for x in this_ks_map.get_mapped_unit_ids() if x != -1]\n",
    "    if len(matches) == 0: # no matches found\n",
    "        #this is just a sanity check, probably unnecessary\n",
    "        matches2 = [x for x in this_com.get_mapped_sorting2().get_mapped_unit_ids() if x != -1]\n",
    "        if len(matches2) != 0:\n",
    "            #append to funny_business\n",
    "            print(this_key, \" : Funny business!\\n\")\n",
    "            funny_business[this_key] = [this_ksr, this_com]\n",
    "    else:\n",
    "        print(this_key, \" Number of matched units: \", len(matches))\n",
    "        first_pass_candidates[this_key] = [this_ksr, this_com]"
   ]
  },
  {
   "cell_type": "code",
   "execution_count": 5,
   "metadata": {},
   "outputs": [
    {
     "data": {
      "text/plain": [
       "[('10_4', 0.04751908779383179),\n",
       " ('10_5', 0.04758275970982087),\n",
       " ('11_4', 0.0502054805473085),\n",
       " ('11_5', 0.04903701396459534),\n",
       " ('12_4', 0.05346746747899595),\n",
       " ('12_5', 0.05344878208855549),\n",
       " ('12_6', 0.05452471842388285),\n",
       " ('13_4', 0.0541696864844645),\n",
       " ('13_5', 0.05506935123042506),\n",
       " ('13_6', 0.05418661615718737),\n",
       " ('14_4', 0.053236163896502015),\n",
       " ('14_5', 0.05320288550296869),\n",
       " ('14_6', 0.05270241353290311),\n",
       " ('14_7', 0.053300317793588216),\n",
       " ('15_4', 0.0552895549543942),\n",
       " ('15_5', 0.05585889812750915),\n",
       " ('15_6', 0.05530221424296828),\n",
       " ('15_7', 0.05589695897688385),\n",
       " ('16_4', 0.057864829687946415),\n",
       " ('16_5', 0.057857378672829314),\n",
       " ('16_6', 0.057865461056855846),\n",
       " ('16_7', 0.05786929707001353),\n",
       " ('16_8', 0.057915033385640684),\n",
       " ('17_4', 0.05694380684144571),\n",
       " ('17_5', 0.05694235029131997),\n",
       " ('17_6', 0.05699494730046803),\n",
       " ('17_7', 0.05697082557417753),\n",
       " ('17_8', 0.05699449682604753),\n",
       " ('18_4', 0.05523523656639152),\n",
       " ('18_5', 0.05527390107281876),\n",
       " ('18_6', 0.05527437779529204),\n",
       " ('18_7', 0.055225213244932465),\n",
       " ('18_8', 0.05522114131933548),\n",
       " ('18_9', 0.05523280689910909),\n",
       " ('19_4', 0.03978506570242508),\n",
       " ('19_5', 0.040304758060447046),\n",
       " ('19_6', 0.04027400853502285),\n",
       " ('19_7', 0.04039588777126484),\n",
       " ('19_8', 0.040286608134019575),\n",
       " ('19_9', 0.03995719592957519),\n",
       " ('20_10', 0.02946719205071098),\n",
       " ('20_4', 0.03014984654269724),\n",
       " ('20_5', 0.02965883764786559),\n",
       " ('20_6', 0.029603011635865845),\n",
       " ('20_7', 0.030412092855857477),\n",
       " ('20_8', 0.029527896995708156),\n",
       " ('20_9', 0.02958885257182178),\n",
       " ('21_10', 0.018503727369542065),\n",
       " ('21_4', 0.025029036954636916),\n",
       " ('21_5', 0.018146647015475314),\n",
       " ('21_6', 0.021968562229912367),\n",
       " ('21_7', 0.020645500789335205),\n",
       " ('21_8', 0.02260566242210783),\n",
       " ('21_9', 0.021912007711374276),\n",
       " ('22_10', 0.017782314387020524),\n",
       " ('22_11', 0.01772668672110013),\n",
       " ('22_4', 0.0177660887767699),\n",
       " ('22_5', 0.01782741770928422),\n",
       " ('22_6', 0.017774675115454837),\n",
       " ('22_7', 0.01778422523103374),\n",
       " ('22_8', 0.017783269757696233),\n",
       " ('22_9', 0.017727639000805803),\n",
       " ('23_10', 0.016012577151508094),\n",
       " ('23_11', 0.016080167793055232),\n",
       " ('23_4', 0.015889645538676445),\n",
       " ('23_5', 0.015897973445143255),\n",
       " ('23_6', 0.01589427107591989),\n",
       " ('23_7', 0.015949706036439838),\n",
       " ('23_8', 0.01601164483260553),\n",
       " ('23_9', 0.015951563136752635),\n",
       " ('24_10', 0.013730701088332067),\n",
       " ('24_11', 0.01373765510255761),\n",
       " ('24_12', 0.013805332151225381),\n",
       " ('24_4', 0.013715080267981293),\n",
       " ('24_5', 0.013841486537732272),\n",
       " ('24_6', 0.013780025284450064),\n",
       " ('24_7', 0.013727226720647773),\n",
       " ('24_8', 0.013730701088332067),\n",
       " ('24_9', 0.013727226720647773),\n",
       " ('25_10', 0.009885801943071416),\n",
       " ('25_11', 0.00988243312318964),\n",
       " ('25_12', 0.009880749574105622),\n",
       " ('25_4', 0.009874021109976166),\n",
       " ('25_5', 0.009877384196185286),\n",
       " ('25_6', 0.009875702366763153),\n",
       " ('25_7', 0.009879066598535173),\n",
       " ('25_8', 0.009879066598535173),\n",
       " ('25_9', 0.009875702366763153),\n",
       " ('8_4', 0.04517202218546635),\n",
       " ('9_4', 0.04632370783790342)]"
      ]
     },
     "execution_count": 5,
     "metadata": {},
     "output_type": "execute_result"
    }
   ],
   "source": [
    "# Really low agreement score even for the max value\n",
    "# No matches found from the above iteration\n",
    "max_max = [(a, max_agreement_scores[a].max()) for a in max_agreement_scores]\n",
    "# Need to investigate what's happening\n",
    "# max_agreement_scores['16_8']\n",
    "max_max"
   ]
  },
  {
   "cell_type": "code",
   "execution_count": 15,
   "metadata": {},
   "outputs": [
    {
     "data": {
      "text/plain": [
       "[<matplotlib.lines.Line2D at 0x1b4d9bce908>]"
      ]
     },
     "execution_count": 15,
     "metadata": {},
     "output_type": "execute_result"
    },
    {
     "data": {
      "image/png": "[encoded data removed]",
      "text/plain": [
       "<Figure size 432x288 with 1 Axes>"
      ]
     },
     "metadata": {
      "needs_background": "light"
     },
     "output_type": "display_data"
    }
   ],
   "source": [
    "fig,ax = plt.subplots()\n",
    "uids = mclust_res.get_unit_ids()\n",
    "for i in range(len(uids)):\n",
    "    st = mclust_res.get_unit_spike_train(uids[i])\n",
    "    ax.plot(st, np.repeat(i, st.size), '|')\n",
    "ksr_1 =  se.PhySortingExtractor(folder_path='data/Kilosort2_results/M040-2020-04-29-CDOD12/results_16_8')\n",
    "st2 = ksr_1.get_unit_spike_train(6)\n",
    "ax.plot(st2, np.repeat(len(uids), st2.size), '|')"
   ]
  },
  {
   "cell_type": "code",
   "execution_count": 46,
   "metadata": {},
   "outputs": [],
   "source": [
    "# ksr_1.get_unit_property_names()\n",
    "# uids = ksr_1.get_unit_ids()\n",
    "# q = [ksr_1.get_unit_property(x, 'KSLabel') for x in uids]\n",
    "# len(ksr_1.get_units_property(property_name='KSLabel'))"
   ]
  },
  {
   "cell_type": "code",
   "execution_count": 18,
   "metadata": {},
   "outputs": [],
   "source": [
    "# # units matched to ks2 units\n",
    "# ksort1_map = com4.get_mapped_sorting1()\n",
    "# print('Ksort2 units:', ksr_1.get_unit_ids())\n",
    "# print('Ksort2 mapped units:', ksort1_map.get_mapped_unit_ids())\n",
    "\n",
    "# # units matched to msort units\n",
    "# mclust_map = com4.get_mapped_sorting2()\n",
    "# print('Mclust units:', msort.get_unit_ids())\n",
    "# print('Mclust mapped units:', mclust_map.get_mapped_unit_ids())"
   ]
  }
 ],
 "metadata": {
  "kernelspec": {
   "display_name": "Python 3",
   "language": "python",
   "name": "python3"
  },
  "language_info": {
   "codemirror_mode": {
    "name": "ipython",
    "version": 3
   },
   "file_extension": ".py",
   "mimetype": "text/x-python",
   "name": "python",
   "nbconvert_exporter": "python",
   "pygments_lexer": "ipython3",
   "version": "3.7.7"
  }
 },
 "nbformat": 4,
 "nbformat_minor": 4
}
