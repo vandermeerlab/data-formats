{
 "cells": [
  {
   "cell_type": "code",
   "execution_count": 1,
   "metadata": {},
   "outputs": [
    {
     "name": "stderr",
     "output_type": "stream",
     "text": [
      "00:08:34 [I] klustakwik KlustaKwik2 version 0.2.6\n"
     ]
    }
   ],
   "source": [
    "# Recommended import aliases: https://spikeinterface.readthedocs.io/en/latest/getting_started/plot_getting_started.html\n",
    "import spikeinterface.extractors as se\n",
    "import spikeinterface.toolkit as st\n",
    "import spikeinterface.sorters as ss\n",
    "import spikeinterface.comparison as sc\n",
    "import spikeinterface.widgets as sw\n",
    "# Additional imports\n",
    "import os.path as op\n",
    "import neo  # neo for some direct reading to check on # of segments etc\n",
    "import numpy as np\n",
    "import matplotlib.pyplot as plt\n",
    "import os\n",
    "import nept"
   ]
  },
  {
   "cell_type": "code",
   "execution_count": 12,
   "metadata": {},
   "outputs": [],
   "source": [
    "# Get manual clustering results using Hung-tu's code\n",
    "from loader_mclust import load_spikes\n",
    "file_path = 'data/BiconditionalOdor/M040-2020-04-29-CDOD12/'\n",
    "units = load_spikes(file_path)\n",
    "sampling_frequency = 30000\n",
    "\n",
    "# Let's concatenate all the units with unique per each unit labels\n",
    "# into numpy arrays and pass it all to NumpySortingExtractor\n",
    "all_times = []\n",
    "all_labels = []\n",
    "units_map = []\n",
    "for u_index, u in enumerate(units):\n",
    "    all_times += [u.time]\n",
    "    all_labels += [u_index] * len(u.time)\n",
    "    units_map.append(u.label)\n",
    "all_times = np.hstack(all_times)\n",
    "all_labels = np.hstack(all_labels)\n",
    "assert all_times.ndim == 1\n",
    "assert all_times.shape == all_labels.shape"
   ]
  },
  {
   "cell_type": "code",
   "execution_count": 12,
   "metadata": {},
   "outputs": [],
   "source": [
    "# Fix time alignment\n",
    "reader = neo.NeuralynxIO(dirname='data/BiconditionalOdor/M040-2020-04-29-CDOD12')\n",
    "seg_sizes = [reader.get_signal_size(0,i) for i in range(reader.segment_count(0))]\n",
    "seg_starts = [reader.get_signal_t_start(0,i) for i in range(reader.segment_count(0))]\n",
    "actual_times = np.zeros(np.asarray(seg_sizes).sum())\n",
    "idx = 0\n",
    "for i in range(len(seg_starts)):\n",
    "    for jdx in range(seg_sizes[i]):\n",
    "        actual_times[idx + jdx] = seg_starts[i] + jdx*(1/sampling_frequency)\n",
    "    idx += seg_sizes[i]\n",
    "\n",
    "lfp = nept.load_lfp('data/BiconditionalOdor/M040-2020-04-29-CDOD12/CSC10.ncs')\n",
    "actual_times +=  lfp.time[0] #Shift time stamps with respect to LFP's first time stamp\n",
    "all_times = np.searchsorted(actual_times, all_times)\n",
    "mclust_res = se.NumpySortingExtractor()\n",
    "mclust_res.set_times_labels(times=all_times, labels=all_labels )\n",
    "mclust_res.set_sampling_frequency(sampling_frequency=sampling_frequency)"
   ]
  },
  {
   "cell_type": "code",
   "execution_count": 51,
   "metadata": {},
   "outputs": [],
   "source": [
    "# Getting all the results directory\n",
    "results_top_dir = 'data/Kilosort2_results/M040-2020-04-29-CDOD12/'\n",
    "subdirs = [os.path.join(results_top_dir, dirname) for dirname in os.listdir(results_top_dir) if os.path.isdir(os.path.join(results_top_dir,dirname)) and 'raw' not in dirname]"
   ]
  },
  {
   "cell_type": "code",
   "execution_count": 52,
   "metadata": {},
   "outputs": [
    {
     "name": "stdout",
     "output_type": "stream",
     "text": [
      "25_5  Number of matched units:  2\n",
      "23_9  Number of matched units:  2\n",
      "21_4  Number of matched units:  4\n",
      "23_7  Number of matched units:  2\n",
      "25_4  Number of matched units:  2\n",
      "23_6  Number of matched units:  2\n",
      "23_8  Number of matched units:  2\n",
      "21_5  Number of matched units:  4\n",
      "16_6  Number of matched units:  6\n",
      "14_5  Number of matched units:  7\n",
      "16_8  Number of matched units:  6\n",
      "18_9  Number of matched units:  4\n",
      "18_7  Number of matched units:  4\n"
     ]
    },
    {
     "name": "stderr",
     "output_type": "stream",
     "text": [
      "/Library/Python/3.7/site-packages/joblib/numpy_pickle.py:104: DeprecationWarning: tostring() is deprecated. Use tobytes() instead.\n",
      "  pickler.file_handle.write(chunk.tostring('C'))\n"
     ]
    },
    {
     "name": "stdout",
     "output_type": "stream",
     "text": [
      "10_4  Number of matched units:  6\n",
      "14_4  Number of matched units:  7\n",
      "16_7  Number of matched units:  6\n",
      "18_6  Number of matched units:  4\n",
      "10_5  Number of matched units:  6\n",
      "18_8  Number of matched units:  4\n",
      "12_6  Number of matched units:  8\n",
      "22_4  Number of matched units:  3\n",
      "20_9  Number of matched units:  4\n",
      "25_10  Number of matched units:  2\n",
      "20_7  Number of matched units:  4\n",
      "24_8  Number of matched units:  2\n",
      "24_6  Number of matched units:  2\n",
      "21_10  Number of matched units:  4\n",
      "20_6  Number of matched units:  4\n",
      "25_11  Number of matched units:  2\n",
      "22_5  Number of matched units:  3\n",
      "20_8  Number of matched units:  4\n",
      "24_7  Number of matched units:  2\n",
      "24_9  Number of matched units:  2\n",
      "20_10  Number of matched units:  4\n",
      "19_4  Number of matched units:  4\n",
      "24_11  Number of matched units:  2\n",
      "13_4  Number of matched units:  7\n",
      "15_6  Number of matched units:  7\n",
      "17_5  Number of matched units:  6\n",
      "13_5  Number of matched units:  7\n",
      "24_10  Number of matched units:  2\n",
      "19_5  Number of matched units:  4\n",
      "8_4  Number of matched units:  7\n",
      "17_4  Number of matched units:  6\n",
      "15_7  Number of matched units:  7\n",
      "23_10  Number of matched units:  2\n",
      "21_7  Number of matched units:  4\n",
      "21_9  Number of matched units:  4\n",
      "23_4  Number of matched units:  2\n",
      "25_6  Number of matched units:  2\n",
      "25_8  Number of matched units:  2\n",
      "21_8  Number of matched units:  4\n",
      "23_5  Number of matched units:  2\n",
      "21_6  Number of matched units:  4\n",
      "23_11  Number of matched units:  2\n",
      "25_9  Number of matched units:  2\n",
      "25_7  Number of matched units:  2\n",
      "12_4  Number of matched units:  8\n",
      "18_4  Number of matched units:  4\n",
      "22_11  Number of matched units:  3\n",
      "16_5  Number of matched units:  6\n",
      "14_6  Number of matched units:  7\n",
      "22_10  Number of matched units:  3\n",
      "18_5  Number of matched units:  4\n",
      "12_5  Number of matched units:  7\n",
      "14_7  Number of matched units:  7\n",
      "16_4  Number of matched units:  6\n",
      "9_4  Number of matched units:  6\n",
      "24_5  Number of matched units:  2\n",
      "22_7  Number of matched units:  3\n",
      "20_4  Number of matched units:  4\n",
      "22_9  Number of matched units:  3\n",
      "24_4  Number of matched units:  2\n",
      "20_5  Number of matched units:  4\n",
      "22_8  Number of matched units:  3\n",
      "22_6  Number of matched units:  3\n",
      "25_12  Number of matched units:  2\n",
      "17_8  Number of matched units:  6\n",
      "15_5  Number of matched units:  7\n",
      "17_6  Number of matched units:  6\n",
      "11_4  Number of matched units:  7\n",
      "19_7  Number of matched units:  4\n",
      "19_9  Number of matched units:  4\n",
      "24_12  Number of matched units:  2\n",
      "17_7  Number of matched units:  6\n",
      "15_4  Number of matched units:  7\n",
      "19_8  Number of matched units:  4\n",
      "13_6  Number of matched units:  7\n",
      "11_5  Number of matched units:  6\n",
      "19_6  Number of matched units:  4\n"
     ]
    }
   ],
   "source": [
    "# Looping through results to see if at least one unit matches\n",
    "first_pass_candidates = {}\n",
    "funny_business = {}\n",
    "max_agreement_scores = {}\n",
    "\n",
    "for dirname in subdirs:\n",
    "    # Using PhySortingExtractor because Kilosort2 results are exported in the Phy format\n",
    "    this_key = \"_\".join(dirname.split(\"_\")[-2:])\n",
    "    this_ksr = se.PhySortingExtractor(folder_path=dirname)\n",
    "    this_com = sc.compare_two_sorters(sorting1=this_ksr, sorting2=mclust_res)\n",
    "    #Saving this to see what kind of values pop out\n",
    "    max_agreement_scores[this_key] = this_com.agreement_scores.max()\n",
    "    # Check if even 1 unit matches, if it does add the comparsion and the sorting to the first_pass_candidates dictionary\n",
    "    this_ks_map = this_com.get_mapped_sorting1()\n",
    "    matches = [x for x in this_ks_map.get_mapped_unit_ids() if x != -1]\n",
    "    if len(matches) == 0: # no matches found\n",
    "        #this is just a sanity check, probably unnecessary\n",
    "        matches2 = [x for x in this_com.get_mapped_sorting2().get_mapped_unit_ids() if x != -1]\n",
    "        if len(matches2) != 0:\n",
    "            #append to funny_business\n",
    "            print(this_key, \" : Funny business!\\n\")\n",
    "            funny_business[this_key] = [this_ksr, this_com]\n",
    "    else:\n",
    "        print(this_key, \" Number of matched units: \", len(matches))\n",
    "        first_pass_candidates[this_key] = [this_ksr, this_com]"
   ]
  },
  {
   "cell_type": "code",
   "execution_count": 53,
   "metadata": {},
   "outputs": [
    {
     "data": {
      "text/plain": [
       "[('25_5', 0.8485037406483791),\n",
       " ('23_9', 0.8463949843260188),\n",
       " ('21_4', 0.8951969027887),\n",
       " ('23_7', 0.8475758632717126),\n",
       " ('25_4', 0.84797507788162),\n",
       " ('23_6', 0.8481675392670157),\n",
       " ('23_8', 0.847132647725292),\n",
       " ('21_5', 0.9055061312815581),\n",
       " ('16_6', 0.9546676331128628),\n",
       " ('14_5', 0.9486017300628037),\n",
       " ('16_8', 0.9579642017718315),\n",
       " ('18_9', 0.9529091670154877),\n",
       " ('18_7', 0.9531371493510378),\n",
       " ('10_4', 0.9338301650606969),\n",
       " ('14_4', 0.950629752851711),\n",
       " ('16_7', 0.9590080057786071),\n",
       " ('18_6', 0.9531483585481074),\n",
       " ('10_5', 0.9358274724954038),\n",
       " ('18_8', 0.9528863113210367),\n",
       " ('12_6', 0.935868994103567),\n",
       " ('22_4', 0.8411118737131091),\n",
       " ('20_9', 0.9509012927026784),\n",
       " ('25_10', 0.8521412941544233),\n",
       " ('20_7', 0.9505547226386807),\n",
       " ('24_8', 0.8489500617610729),\n",
       " ('24_6', 0.8485008818342151),\n",
       " ('21_10', 0.8847922483166366),\n",
       " ('20_6', 0.9487071683834349),\n",
       " ('25_11', 0.8521875),\n",
       " ('22_5', 0.839787525702536),\n",
       " ('20_8', 0.9501483857429779),\n",
       " ('24_7', 0.8493997175141242),\n",
       " ('24_9', 0.848089468779124),\n",
       " ('20_10', 0.950130446516928),\n",
       " ('19_4', 0.9516619920033419),\n",
       " ('24_11', 0.8490998941051888),\n",
       " ('13_4', 0.9595025894255088),\n",
       " ('15_6', 0.957726209749955),\n",
       " ('17_5', 0.9536023916292975),\n",
       " ('13_5', 0.9596543522114834),\n",
       " ('24_10', 0.8471292708700247),\n",
       " ('19_5', 0.9217129474740716),\n",
       " ('8_4', 0.9441859095193214),\n",
       " ('17_4', 0.9533104169780302),\n",
       " ('15_7', 0.9573517952406642),\n",
       " ('23_10', 0.8463949843260188),\n",
       " ('21_7', 0.8991189776966426),\n",
       " ('21_9', 0.8587682414048974),\n",
       " ('23_4', 0.8475492761207047),\n",
       " ('25_6', 0.8488154613466334),\n",
       " ('25_8', 0.8504993757802747),\n",
       " ('21_8', 0.899856938483548),\n",
       " ('23_5', 0.8472537053182214),\n",
       " ('21_6', 0.917209532448256),\n",
       " ('23_11', 0.8462208289794497),\n",
       " ('25_9', 0.8505460218408737),\n",
       " ('25_7', 0.8493449781659389),\n",
       " ('12_4', 0.9356778053407266),\n",
       " ('18_4', 0.9532254687920567),\n",
       " ('22_11', 0.8405076316240782),\n",
       " ('16_5', 0.9577269577269577),\n",
       " ('14_6', 0.9488235642742844),\n",
       " ('22_10', 0.8383233532934131),\n",
       " ('18_5', 0.9531086455934688),\n",
       " ('12_5', 0.9438308149980855),\n",
       " ('14_7', 0.9504929912093134),\n",
       " ('16_4', 0.9590921405135306),\n",
       " ('9_4', 0.942182266878195),\n",
       " ('24_5', 0.8492497793468667),\n",
       " ('22_7', 0.8401920438957476),\n",
       " ('20_4', 0.9481646006543206),\n",
       " ('22_9', 0.8383233532934131),\n",
       " ('24_4', 0.8496997527375486),\n",
       " ('20_5', 0.9487225674742562),\n",
       " ('22_8', 0.838466803559206),\n",
       " ('22_6', 0.8386379192334018),\n",
       " ('25_12', 0.8542383484516735),\n",
       " ('17_8', 0.9532847151652818),\n",
       " ('15_5', 0.9595351357861143),\n",
       " ('17_6', 0.9532235406641361),\n",
       " ('11_4', 0.9474960806933476),\n",
       " ('19_7', 0.9519532066012116),\n",
       " ('19_9', 0.9260504201680673),\n",
       " ('24_12', 0.8485412787088765),\n",
       " ('17_7', 0.9525315511531461),\n",
       " ('15_4', 0.9596519225557797),\n",
       " ('19_8', 0.9241865145924186),\n",
       " ('13_6', 0.9591523433972488),\n",
       " ('11_5', 0.9338672102504368),\n",
       " ('19_6', 0.924496644295302)]"
      ]
     },
     "execution_count": 53,
     "metadata": {},
     "output_type": "execute_result"
    }
   ],
   "source": [
    "# Really low agreement score even for the max value\n",
    "# No matches found from the above iteration\n",
    "max_max = [(a, max_agreement_scores[a].max()) for a in max_agreement_scores]\n",
    "# Need to investigate what's happening\n",
    "# max_agreement_scores['16_8']\n",
    "max_max"
   ]
  },
  {
   "cell_type": "code",
   "execution_count": 54,
   "metadata": {},
   "outputs": [
    {
     "data": {
      "text/plain": [
       "[<matplotlib.lines.Line2D at 0x127d5b550>]"
      ]
     },
     "execution_count": 54,
     "metadata": {},
     "output_type": "execute_result"
    },
    {
     "data": {
      "image/png": "[encoded data removed]",
      "text/plain": [
       "<Figure size 432x288 with 1 Axes>"
      ]
     },
     "metadata": {
      "needs_background": "light"
     },
     "output_type": "display_data"
    }
   ],
   "source": [
    "fig,ax = plt.subplots()\n",
    "uids = mclust_res.get_unit_ids()\n",
    "for i in range(len(uids)):\n",
    "    st = mclust_res.get_unit_spike_train(uids[i])\n",
    "    ax.plot(st, np.repeat(i, st.size), '|')\n",
    "ksr_1 =  se.PhySortingExtractor(folder_path='data/Kilosort2_results/M040-2020-04-29-CDOD12/results_12_4')\n",
    "st2 = ksr_1.get_unit_spike_train(6)\n",
    "ax.plot(st2, np.repeat(len(uids), st2.size), '|')"
   ]
  },
  {
   "cell_type": "code",
   "execution_count": 59,
   "metadata": {},
   "outputs": [
    {
     "name": "stdout",
     "output_type": "stream",
     "text": [
      "Ksort2 units: [0, 1, 2, 3, 4, 5, 6, 7, 8, 9, 10, 11, 12, 13, 14, 15, 16, 17, 18, 19, 20, 21, 22, 23, 24]\n",
      "Ksort2 mapped units: [11, -1, 3, -1, 7, 9, -1, 5, 10, -1, -1, -1, -1, 2, -1, -1, -1, -1, -1, -1, -1, -1, -1, 6, -1]\n",
      "Mclust units: [0, 1, 2, 3, 4, 5, 6, 7, 8, 9, 10, 11]\n",
      "Mclust mapped units: [-1, -1, 13, 2, -1, 7, 23, 4, -1, 5, 8, 0]\n"
     ]
    }
   ],
   "source": [
    "# # units matched to ks2 units\n",
    "ksort1_map = first_pass_candidates['12_4'][1].get_mapped_sorting1()\n",
    "print('Ksort2 units:', ksr_1.get_unit_ids())\n",
    "print('Ksort2 mapped units:', ksort1_map.get_mapped_unit_ids())\n",
    "\n",
    "# units matched to msort units\n",
    "mclust_map = first_pass_candidates['12_4'][1].get_mapped_sorting2()\n",
    "print('Mclust units:', mclust_res.get_unit_ids())\n",
    "print('Mclust mapped units:', mclust_map.get_mapped_unit_ids())"
   ]
  },
  {
   "cell_type": "code",
   "execution_count": null,
   "metadata": {},
   "outputs": [],
   "source": []
  }
 ],
 "metadata": {
  "kernelspec": {
   "display_name": "Python 3",
   "language": "python",
   "name": "python3"
  },
  "language_info": {
   "codemirror_mode": {
    "name": "ipython",
    "version": 3
   },
   "file_extension": ".py",
   "mimetype": "text/x-python",
   "name": "python",
   "nbconvert_exporter": "python",
   "pygments_lexer": "ipython3",
   "version": "3.7.3"
  }
 },
 "nbformat": 4,
 "nbformat_minor": 4
}
