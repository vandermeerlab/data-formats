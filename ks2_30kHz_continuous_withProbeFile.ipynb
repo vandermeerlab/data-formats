{
 "cells": [
  {
   "cell_type": "markdown",
   "metadata": {},
   "source": [
    "## Attempt to run Kilosort2 via spike interfaces and using a probe geometry file\n",
    "The data used for this purpose is on continuously sampled wideband data collected by Jimmie Gmaz. [(Source)](http://datasets.datalad.org/?dir=/labs/mvdm/BiconditionalOdor)"
   ]
  },
  {
   "cell_type": "markdown",
   "metadata": {},
   "source": [
    "## Prerequisites\n",
    "- Computer with NVIDIA GPU\n",
    "- Install Matlab and compatible CUDA libraries\n",
    "- Download Kilosort2 and compile all the MEX files in the 'CUDA folder'. For details follow the documentation on the [Kilosort2 repository.](https://github.com/MouseLand/Kilosort2/)\n"
   ]
  },
  {
   "cell_type": "code",
   "execution_count": 1,
   "metadata": {},
   "outputs": [],
   "source": [
    "# Recommended import aliases: https://spikeinterface.readthedocs.io/en/latest/getting_started/plot_getting_started.html\n",
    "import spikeinterface.extractors as se\n",
    "import spikeinterface.toolkit as st\n",
    "import spikeinterface.sorters as ss\n",
    "import spikeinterface.comparison as sc\n",
    "import spikeinterface.widgets as sw\n",
    "# Additional imports\n",
    "import os.path as op\n",
    "import neo  # neo for some direct reading to check on # of segments etc\n",
    "import numpy as np\n",
    "import matplotlib.pyplot as plt\n",
    "import os\n",
    "import re"
   ]
  },
  {
   "cell_type": "code",
   "execution_count": 2,
   "metadata": {},
   "outputs": [
    {
     "name": "stdout",
     "output_type": "stream",
     "text": [
      "NeuralynxIO: data/BiconditionalOdor/M040-2020-04-29-CDOD12\n",
      "nb_block: 1\n",
      "nb_segment:  [5]\n",
      "signal_channels: [CSC10, CSC11, CSC12, CSC13 ... CSC30 CSC31 CSC32 CSC9]\n",
      "unit_channels: [chTT3#13#0, chTT3#14#0, chTT3#8#0, chTT3#24#0 ... chTT8#3#0 chTT8#4#0 chTT8#19#0 chTT8#20#0]\n",
      "event_channels: [Events event_id=11 ttl=0, Events event_id=11 ttl=1, Events event_id=11 ttl=2, Events event_id=11 ttl=4 ... Events event_id=11 ttl=48 Events event_id=11 ttl=64 Events event_id=11 ttl=96 Events event_id=19 ttl=0]\n",
      "\n"
     ]
    }
   ],
   "source": [
    "# sample_file can be any file in the directory which has ALL the ncs files.\n",
    "# sample_file = 'data/BiconditionalOdor/M040-2020-04-28-CDOD11/CSC11.ncs'\n",
    "sample_file = 'data/BiconditionalOdor/M040-2020-04-29-CDOD12/CSC11.ncs'\n",
    "dname = (op.dirname(sample_file))\n",
    "# print(dname)\n",
    "\n",
    "# Throws an error if the the ncs files don't have the same length\n",
    "# On omitting the file with a different length, this works (data/BiconditionalOdor/M040-2020-04-28-CDOD11/CSC26.ncs for instance)\n",
    "# Or use the \"exclude_files\" keyword to explicitly a list of .Ncs files that are not meant for spike sorting or other_reasons\n",
    "# NOTE: Clone and install neo from \"https://github.com/manimoh/python-neo\" for the 'exclude_files' feature to work\n",
    "\n",
    "# reader = neo.NeuralynxIO(dirname=dname, exclude_files = ['CSC26.ncs'])\n",
    "reader = neo.NeuralynxIO(dirname=dname)\n",
    "print(reader)"
   ]
  },
  {
   "cell_type": "code",
   "execution_count": 3,
   "metadata": {},
   "outputs": [],
   "source": [
    "# recordingList = [se.NeuralynxRecordingExtractor(dirname=op.dirname(sample_file), exclude_files = ['CSC26.ncs'], seg_index=i) for i in range(reader.segment_count(0))]\n",
    "recordingList = [se.NeuralynxRecordingExtractor(dirname=op.dirname(sample_file), seg_index=i) for i in range(reader.segment_count(0))]\n",
    "\n",
    "# This concatenates mutiple segments together\n",
    "recordingFull = se.MultiRecordingTimeExtractor(recordingList)"
   ]
  },
  {
   "cell_type": "markdown",
   "metadata": {},
   "source": [
    "<table><tr>\n",
    "<td> <img src=\"ks2_test/A4x2-tet-CM42-channelMap.png\" alt=\"Drawing\"/> </td>\n",
    "<td> <img src=\"ks2_test/A4x2-tet-CM42-probeGeometry.png\" alt=\"Drawing\"/> </td>\n",
    "</tr></table>\n",
    "<table><tr>\n",
    "<td> <img src=\"ks2_test/CM32-NN-to-neuralynx-mapping.JPG\" alt=\"Drawing\"/> </td>\n",
    "</tr></table>"
   ]
  },
  {
   "cell_type": "code",
   "execution_count": 4,
   "metadata": {},
   "outputs": [],
   "source": [
    "# Load probe file\n",
    "recording_probe = recordingFull.load_probe_file('probe_files/NN_A4x2tet.prb')"
   ]
  },
  {
   "cell_type": "code",
   "execution_count": 5,
   "metadata": {},
   "outputs": [],
   "source": [
    "# Adding labels (CSC names) to channels from neo Neuralynx header\n",
    "for ad_ch in recording_probe.get_channel_ids():\n",
    "    csc_idx = np.where(reader.header['signal_channels']['id'] == ad_ch)\n",
    "#     print(reader.header['signal_channels']['name'][csc_idx])\n",
    "    recording_probe.set_channel_property(ad_ch, 'label', reader.header['signal_channels']['name'][csc_idx][0])"
   ]
  },
  {
   "cell_type": "code",
   "execution_count": 6,
   "metadata": {},
   "outputs": [],
   "source": [
    "# Assigning groups (TT num) to channels from neo Neuralynx header\n",
    "for ch in reader.header['unit_channels']:\n",
    "    tetrode = int(re.search('(?<=TT)(.*?)(?=#)', ch[0]).group(0))\n",
    "    ad_ch = int(re.search('(?<=#)(.*?)(?=#)', ch[0]).group(0))\n",
    "    recording_probe.set_channel_property(ad_ch, 'group', tetrode)"
   ]
  },
  {
   "cell_type": "code",
   "execution_count": 7,
   "metadata": {},
   "outputs": [
    {
     "data": {
      "image/png": "[encoded data removed]",
      "text/plain": [
       "<Figure size 432x288 with 1 Axes>"
      ]
     },
     "metadata": {
      "needs_background": "light"
     },
     "output_type": "display_data"
    }
   ],
   "source": [
    "# Sanity check to see that the relative locations of the various channels match that of the images above\n",
    "xcoords = [pos[0] for pos in recording_probe.get_channel_locations()]\n",
    "ycoords = [pos[1] for pos in recording_probe.get_channel_locations()]\n",
    "labels = [recording_probe.get_channel_property(i, 'label') for i in recording_probe.get_channel_ids()]\n",
    "fig,ax = plt.subplots()\n",
    "ax.axis('off')\n",
    "for i in range(len(xcoords)):\n",
    "    plt.text(xcoords[i]/200,ycoords[i]/200,labels[i])"
   ]
  },
  {
   "cell_type": "code",
   "execution_count": 8,
   "metadata": {},
   "outputs": [],
   "source": [
    "# Transfer properties from recording probe to recordingFull\n",
    "for ch in recordingFull.get_channel_ids():\n",
    "    for prop in recording_probe.get_shared_channel_property_names():\n",
    "        recordingFull.set_channel_property(ch, prop, recording_probe.get_channel_property(ch, prop))"
   ]
  },
  {
   "cell_type": "code",
   "execution_count": 9,
   "metadata": {},
   "outputs": [
    {
     "name": "stdout",
     "output_type": "stream",
     "text": [
      "['hdsort', 'herdingspikes', 'ironclust', 'kilosort', 'kilosort2', 'klusta', 'mountainsort4', 'spykingcircus', 'tridesclous', 'waveclus']\n"
     ]
    }
   ],
   "source": [
    "# This should contain kilosort2\n",
    "print (ss.available_sorters())"
   ]
  },
  {
   "cell_type": "code",
   "execution_count": 10,
   "metadata": {},
   "outputs": [
    {
     "name": "stdout",
     "output_type": "stream",
     "text": [
      "{'detect_threshold': 5, 'projection_threshold': [10, 4], 'preclust_threshold': 8, 'car': True, 'minFR': 0.1, 'minfr_goodchannels': 0.1, 'freq_min': 150, 'sigmaMask': 30, 'nPCs': 3, 'ntbuff': 64, 'nfilt_factor': 4, 'NT': None, 'keep_good_only': False}\n"
     ]
    }
   ],
   "source": [
    "# These params should be changed and passed on kwargs if needed\n",
    "ks2_params = ss.Kilosort2Sorter.default_params()\n",
    "print(ks2_params)\n",
    "\n",
    "# Example of changing parameter\n",
    "ks2_params['projection_threshold'] = [20, 15]"
   ]
  },
  {
   "cell_type": "code",
   "execution_count": 11,
   "metadata": {},
   "outputs": [
    {
     "data": {
      "text/plain": [
       "'\\nTo use Kilosort2 run:\\n\\n        >>> git clone https://github.com/MouseLand/Kilosort2\\n    and provide the installation path by setting the KILOSORT2_PATH\\n    environment variables or using Kilosort2Sorter.set_kilosort2_path().\\n\\n\\n\\n    More information on Kilosort2 at:\\n        https://github.com/MouseLand/Kilosort2\\n    '"
      ]
     },
     "execution_count": 11,
     "metadata": {},
     "output_type": "execute_result"
    }
   ],
   "source": [
    "# This displays how to set KS2 path\n",
    "ss.Kilosort2Sorter.installation_mesg"
   ]
  },
  {
   "cell_type": "code",
   "execution_count": 12,
   "metadata": {},
   "outputs": [
    {
     "name": "stdout",
     "output_type": "stream",
     "text": [
      "Setting KILOSORT2_PATH environment variable for subprocess calls to: D:\\AutomaticSpikeSort\\Kilosort2\n"
     ]
    }
   ],
   "source": [
    "# Set the path tothe Kilosort repository\n",
    "ss.Kilosort2Sorter.set_kilosort2_path('D:\\AutomaticSpikeSort\\Kilosort2')"
   ]
  },
  {
   "cell_type": "code",
   "execution_count": 13,
   "metadata": {},
   "outputs": [
    {
     "data": {
      "text/plain": [
       "True"
      ]
     },
     "execution_count": 13,
     "metadata": {},
     "output_type": "execute_result"
    }
   ],
   "source": [
    "# This should return true if the path is set correctly\n",
    "# Kilosort2 won't run if this is False\n",
    "ss.Kilosort2Sorter.is_installed()"
   ]
  },
  {
   "cell_type": "code",
   "execution_count": 14,
   "metadata": {},
   "outputs": [
    {
     "name": "stdout",
     "output_type": "stream",
     "text": [
      "WARNING! The recording contains several group. In order to spike sort by 'group' use grouping_property='group' as argument.\n",
      "RUNNING SHELL SCRIPT: C:\\Users\\mvdmlab\\ss_ks2_test\\run_kilosort2.bat\n",
      "\n",
      "\n",
      "C:\\Users\\mvdmlab>cd C:\\Users\\mvdmlab\\ss_ks2_test \n",
      "\n",
      "\n",
      "\n",
      "C:\\Users\\mvdmlab\\ss_ks2_test>matlab -nosplash -wait -log -r kilosort2_master \n",
      "\n",
      "Time   0s. Determining good channels.. \n",
      "\n",
      "found 9934 threshold crossings in 214.29 seconds of data \n",
      "\n",
      "found 0 bad channels \n",
      "\n",
      "Time   9s. Computing whitening matrix.. \n",
      "\n",
      "Getting channel whitening matrix... \n",
      "\n",
      "Channel-whitening matrix computed. \n",
      "\n",
      "Time  14s. Loading raw data and applying filters... \n",
      "\n",
      "Time 146s. Finished preprocessing 2815 batches. \n",
      "\n",
      "random seed for clusterSingleBatches: 1\n",
      "\n",
      "Obtained 7 PC waveforms in 1.40 seconds \n",
      "\n",
      "time 0.25, pre clustered 1 / 2815 batches \n",
      "\n",
      "time 21.98, pre clustered 501 / 2815 batches \n",
      "\n",
      "time 43.31, pre clustered 1001 / 2815 batches \n",
      "\n",
      "time 64.96, pre clustered 1501 / 2815 batches \n",
      "\n",
      "time 86.72, pre clustered 2001 / 2815 batches \n",
      "\n",
      "time 108.25, pre clustered 2501 / 2815 batches \n",
      "\n",
      "time 0.22, compared 1 / 2815 batches \n",
      "\n",
      "time 3.40, compared 501 / 2815 batches \n",
      "\n",
      "time 6.57, compared 1001 / 2815 batches \n",
      "\n",
      "time 9.75, compared 1501 / 2815 batches \n",
      "\n",
      "time 12.94, compared 2001 / 2815 batches \n",
      "\n",
      "time 16.12, compared 2501 / 2815 batches \n",
      "\n",
      "time 25.44, Re-ordered 2815 batches. \n",
      "\n",
      "Time  30s. Optimizing templates ...\n",
      "\n",
      "30.49 sec, 1 / 2816 batches, 5 units, nspks: 1.2215, mu: 10.0000, nst0: 3, merges: 0.0000, 0.0000 \n",
      "\n",
      "34.65 sec, 101 / 2816 batches, 18 units, nspks: 17.2473, mu: 31.0997, nst0: 4, merges: 9.6224, 0.0000 \n",
      "\n",
      "38.35 sec, 201 / 2816 batches, 12 units, nspks: 17.4681, mu: 31.0843, nst0: 13, merges: 11.6243, 0.0900 \n",
      "\n",
      "41.91 sec, 301 / 2816 batches, 9 units, nspks: 19.4831, mu: 29.2214, nst0: 33, merges: 11.3935, 0.0109 \n",
      "\n",
      "45.49 sec, 401 / 2816 batches, 10 units, nspks: 20.1605, mu: 25.5156, nst0: 23, merges: 10.8685, 0.0013 \n",
      "\n",
      "49.03 sec, 501 / 2816 batches, 9 units, nspks: 17.5015, mu: 23.8469, nst0: 14, merges: 10.7235, 0.0002 \n",
      "\n",
      "52.57 sec, 601 / 2816 batches, 11 units, nspks: 19.8494, mu: 24.6762, nst0: 19, merges: 11.3382, 0.0000 \n",
      "\n",
      "56.13 sec, 701 / 2816 batches, 10 units, nspks: 20.2892, mu: 27.7745, nst0: 11, merges: 11.8012, 0.0000 \n",
      "\n",
      "59.66 sec, 801 / 2816 batches, 11 units, nspks: 20.0780, mu: 24.3805, nst0: 11, merges: 10.8010, 0.0000 \n",
      "\n",
      "63.21 sec, 901 / 2816 batches, 11 units, nspks: 26.0930, mu: 34.5195, nst0: 63, merges: 11.1264, 0.0000 \n",
      "\n",
      "66.86 sec, 1001 / 2816 batches, 11 units, nspks: 22.4436, mu: 24.3742, nst0: 15, merges: 12.0246, 0.0000 \n",
      "\n",
      "70.45 sec, 1101 / 2816 batches, 14 units, nspks: 24.5078, mu: 30.3028, nst0: 32, merges: 11.9607, 0.0000 \n",
      "\n",
      "74.26 sec, 1201 / 2816 batches, 15 units, nspks: 40.6529, mu: 31.9466, nst0: 86, merges: 12.1434, 0.0000 \n",
      "\n",
      "78.17 sec, 1301 / 2816 batches, 20 units, nspks: 78.2305, mu: 35.0437, nst0: 46, merges: 12.3609, 0.0000 \n",
      "\n",
      "82.89 sec, 1401 / 2816 batches, 14 units, nspks: 424.8376, mu: 32.3027, nst0: 224, merges: 14.1988, 0.0000 \n",
      "\n",
      "87.64 sec, 1501 / 2816 batches, 26 units, nspks: 169.3192, mu: 33.2209, nst0: 149, merges: 13.8963, 0.0000 \n",
      "\n",
      "91.85 sec, 1601 / 2816 batches, 21 units, nspks: 49.9893, mu: 34.2093, nst0: 104, merges: 13.0331, 0.0000 \n",
      "\n",
      "95.70 sec, 1701 / 2816 batches, 12 units, nspks: 28.4270, mu: 32.0262, nst0: 13, merges: 12.1780, 0.0000 \n",
      "\n",
      "99.39 sec, 1801 / 2816 batches, 12 units, nspks: 26.7721, mu: 24.9974, nst0: 14, merges: 12.0886, 0.0000 \n",
      "\n",
      "103.01 sec, 1901 / 2816 batches, 12 units, nspks: 26.2060, mu: 24.6622, nst0: 57, merges: 11.6195, 0.0000 \n",
      "\n",
      "106.64 sec, 2001 / 2816 batches, 18 units, nspks: 25.5013, mu: 28.3959, nst0: 54, merges: 10.0295, 0.0000 \n",
      "\n",
      "110.25 sec, 2101 / 2816 batches, 9 units, nspks: 20.8616, mu: 24.8368, nst0: 16, merges: 10.6324, 0.0000 \n",
      "\n",
      "113.86 sec, 2201 / 2816 batches, 14 units, nspks: 21.8947, mu: 28.9771, nst0: 31, merges: 11.1011, 0.0000 \n",
      "\n",
      "117.42 sec, 2301 / 2816 batches, 11 units, nspks: 23.2874, mu: 24.7200, nst0: 30, merges: 10.7197, 0.0000 \n",
      "\n",
      "120.90 sec, 2401 / 2816 batches, 11 units, nspks: 21.2800, mu: 24.6109, nst0: 47, merges: 10.0112, 0.0000 \n",
      "\n",
      "124.43 sec, 2501 / 2816 batches, 12 units, nspks: 21.4088, mu: 27.5667, nst0: 18, merges: 11.1712, 0.0000 \n",
      "\n",
      "128.04 sec, 2601 / 2816 batches, 10 units, nspks: 20.5143, mu: 28.3146, nst0: 21, merges: 11.3166, 0.0000 \n",
      "\n",
      "131.67 sec, 2701 / 2816 batches, 10 units, nspks: 18.5063, mu: 24.4623, nst0: 16, merges: 11.7537, 0.0000 \n",
      "\n",
      "135.23 sec, 2801 / 2816 batches, 12 units, nspks: 18.5742, mu: 24.9532, nst0: 30, merges: 11.1366, 0.0000 \n",
      "\n",
      "Elapsed time is 135.817307 seconds.\n",
      "\n",
      "Finished learning templates \n",
      "\n",
      "Time 136s. Optimizing templates ...\n",
      "\n",
      "136.18 sec, 1 / 1408 batches, 8 units, nspks: 0.7500, mu: 27.2469, nst0: 21 \n",
      "\n",
      "137.94 sec, 101 / 1408 batches, 8 units, nspks: 20.0324, mu: 27.9249, nst0: 13 \n",
      "\n",
      "139.69 sec, 201 / 1408 batches, 8 units, nspks: 18.7991, mu: 28.2673, nst0: 20 \n",
      "\n",
      "141.45 sec, 301 / 1408 batches, 8 units, nspks: 21.4732, mu: 28.1036, nst0: 56 \n",
      "\n",
      "143.22 sec, 401 / 1408 batches, 8 units, nspks: 20.5677, mu: 28.4427, nst0: 28 \n",
      "\n",
      "144.98 sec, 501 / 1408 batches, 8 units, nspks: 17.6445, mu: 28.2640, nst0: 16 \n",
      "\n",
      "146.74 sec, 601 / 1408 batches, 8 units, nspks: 19.7909, mu: 28.5416, nst0: 27 \n",
      "\n",
      "148.52 sec, 701 / 1408 batches, 8 units, nspks: 19.6001, mu: 28.5400, nst0: 15 \n",
      "\n",
      "150.32 sec, 801 / 1408 batches, 8 units, nspks: 19.7182, mu: 28.8940, nst0: 17 \n",
      "\n",
      "152.10 sec, 901 / 1408 batches, 8 units, nspks: 25.2261, mu: 29.9798, nst0: 71 \n",
      "\n",
      "153.86 sec, 1001 / 1408 batches, 8 units, nspks: 22.2858, mu: 30.7126, nst0: 20 \n",
      "\n",
      "155.61 sec, 1101 / 1408 batches, 8 units, nspks: 23.4112, mu: 31.5115, nst0: 33 \n",
      "\n",
      "157.37 sec, 1201 / 1408 batches, 8 units, nspks: 26.3020, mu: 34.8829, nst0: 15 \n",
      "\n",
      "159.13 sec, 1301 / 1408 batches, 8 units, nspks: 25.6839, mu: 36.1954, nst0: 41 \n",
      "\n",
      "160.87 sec, 1401 / 1408 batches, 8 units, nspks: 15.9615, mu: 37.9017, nst0: 8 \n",
      "\n",
      "Elapsed time is 160.989727 seconds.\n",
      "\n",
      "Time 161s. Optimizing templates ...\n",
      "\n",
      "161.08 sec, 1 / 1407 batches, 8 units, nspks: 0.9000, mu: 27.2469, nst0: 21 \n",
      "\n",
      "162.80 sec, 101 / 1407 batches, 8 units, nspks: 19.9944, mu: 27.8379, nst0: 23 \n",
      "\n",
      "164.54 sec, 201 / 1407 batches, 8 units, nspks: 19.3231, mu: 28.9689, nst0: 32 \n",
      "\n",
      "166.25 sec, 301 / 1407 batches, 8 units, nspks: 15.9478, mu: 29.2566, nst0: 13 \n",
      "\n",
      "167.96 sec, 401 / 1407 batches, 8 units, nspks: 16.6968, mu: 29.1000, nst0: 31 \n",
      "\n",
      "169.68 sec, 501 / 1407 batches, 8 units, nspks: 16.6166, mu: 28.8509, nst0: 14 \n",
      "\n",
      "171.43 sec, 601 / 1407 batches, 8 units, nspks: 16.8388, mu: 28.4816, nst0: 25 \n",
      "\n",
      "173.17 sec, 701 / 1407 batches, 8 units, nspks: 16.1691, mu: 29.1292, nst0: 25 \n",
      "\n",
      "174.92 sec, 801 / 1407 batches, 8 units, nspks: 16.6229, mu: 28.7584, nst0: 21 \n",
      "\n",
      "176.66 sec, 901 / 1407 batches, 8 units, nspks: 16.0020, mu: 29.1000, nst0: 36 \n",
      "\n",
      "178.38 sec, 1001 / 1407 batches, 8 units, nspks: 16.9487, mu: 29.5895, nst0: 22 \n",
      "\n",
      "180.11 sec, 1101 / 1407 batches, 8 units, nspks: 15.4345, mu: 29.7067, nst0: 14 \n",
      "\n",
      "181.84 sec, 1201 / 1407 batches, 8 units, nspks: 16.3135, mu: 29.9061, nst0: 21 \n",
      "\n",
      "183.55 sec, 1301 / 1407 batches, 8 units, nspks: 18.2212, mu: 33.1951, nst0: 14 \n",
      "\n",
      "185.29 sec, 1401 / 1407 batches, 8 units, nspks: 23.3215, mu: 40.6451, nst0: 48 \n",
      "\n",
      "Elapsed time is 185.396875 seconds.\n",
      "\n",
      "Number of spikes before applying cutoff: 69012\n",
      "\n",
      "Finished compressing time-varying templates \n",
      "\n",
      "initialized spike counts\n",
      "\n",
      "Found 1 splits, checked 1/9 clusters, nccg 0 \n",
      "\n",
      "Finished splitting. Found 5 splits, checked 13/13 clusters, nccg 0 \n",
      "\n",
      "Found 0 splits, checked 1/13 clusters, nccg 0 \n",
      "\n",
      "Finished splitting. Found 0 splits, checked 13/13 clusters, nccg 1 \n",
      "\n",
      "found 2 good units \n",
      "\n",
      "Saving results to Phy  \n",
      "\n",
      "kilosort2 run time 474.60s\n"
     ]
    }
   ],
   "source": [
    "# Does not work if the working/output folder is in a different drive/directory, must change the directory outside the function call\n",
    "# SS folks suggest the same, see https://github.com/SpikeInterface/spikesorters/issues/94\n",
    "# KS2 folks suggest that the output/Working directory should reside on an SSD\n",
    "\n",
    "# For now run KS2 on all channels without caring about channel groups. For discussion about details see: https://github.com/SpikeInterface/spikesorters/issues/150\n",
    "cwd = os.getcwd()\n",
    "os.chdir('C:/Users/mvdmlab')# ks2_out0 = ss.run_kilosort2(recordingFull)\n",
    "\n",
    "# This launches a matlab instance using a shell command so the KS2 log is present only on the matlab console, which vanishes after finishing its run or if it runs into an error.\n",
    "# Ideally the shell command needs to be modified so the Maltab console output is logged to somewhere more permanent.\n",
    "# Possible solutions below (Need to explore)\n",
    "# 1) https://www.mathworks.com/matlabcentral/answers/102082-how-do-i-call-matlab-from-the-dos-prompt#answer_419655\n",
    "# 2) https://stackoverflow.com/questions/7714709/writing-log-statements-to-standard-output-with-matlab/41818741#41818741\n",
    "\n",
    "# UPDATE: Opened an issue suggesting the same to SS folks here, https://github.com/SpikeInterface/spikesorters/issues/151\n",
    "\n",
    "ks2_out0 = ss.run_kilosort2(recordingFull, output_folder = 'C:/Users/mvdmlab/ss_ks2_test', **ks2_params, verbose=True)\n",
    "\n",
    "# TODO: Delete the recording.dat file and the temp.wh file since they are needed only for the sorting and not later on for comapring/viewing results and occupy a lot of space\n",
    "\n",
    "# Alternate way of runnng the kilosort. Works!!\n",
    "# ks2_out1 = ss.run_sorters(['kilosort2'],[recordingFull], working_folder='C:/Users/mvdmlab/ss_ks2test')\n",
    "\n",
    "os.chdir(cwd)"
   ]
  },
  {
   "cell_type": "code",
   "execution_count": 15,
   "metadata": {},
   "outputs": [],
   "source": [
    "# This runs KS2 separately on each channel group. It creates one folder for each channel group, with the folder names starting\n",
    "# from 0 to the number of groups-1.\n",
    "# This is not recommended by the KS2 folks: https://github.com/MouseLand/Kilosort2/issues/21\n",
    "# Works!!\n",
    "# ks2_out2 = ss.run_kilosort2(recordingFull, output_folder = 'C:/Users/mvdmlab/ss_ks2test_group', grouping_property = 'group')"
   ]
  }
 ],
 "metadata": {
  "kernelspec": {
   "display_name": "Python 3",
   "language": "python",
   "name": "python3"
  },
  "language_info": {
   "codemirror_mode": {
    "name": "ipython",
    "version": 3
   },
   "file_extension": ".py",
   "mimetype": "text/x-python",
   "name": "python",
   "nbconvert_exporter": "python",
   "pygments_lexer": "ipython3",
   "version": "3.8.5"
  }
 },
 "nbformat": 4,
 "nbformat_minor": 4
}
